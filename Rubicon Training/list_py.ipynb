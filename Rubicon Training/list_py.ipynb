{
 "cells": [
  {
   "cell_type": "markdown",
   "id": "bffa67c1-f81d-454e-ae81-6efa8380b891",
   "metadata": {},
   "source": [
    "# LIST\n",
    "### Mutable, Ordered and allows Dupicate values"
   ]
  },
  {
   "cell_type": "code",
   "execution_count": 1,
   "id": "f40dc311-ee0e-413f-b43b-49a261d46a0d",
   "metadata": {},
   "outputs": [
    {
     "data": {
      "text/plain": [
       "[1, 2, 3, 4]"
      ]
     },
     "execution_count": 1,
     "metadata": {},
     "output_type": "execute_result"
    }
   ],
   "source": [
    "l1 = [1, 2, 3, 4]\n",
    "l1"
   ]
  },
  {
   "cell_type": "markdown",
   "id": "56447e1b-8a15-4d3d-bdff-498dc764777c",
   "metadata": {},
   "source": [
    "- Uncontigous memory allocated to each element in list"
   ]
  },
  {
   "cell_type": "markdown",
   "id": "6350e5ff-7f51-4420-af00-1e31df3b2bc3",
   "metadata": {},
   "source": [
    "print(id(l1))"
   ]
  },
  {
   "cell_type": "code",
   "execution_count": 4,
   "id": "2619cbcc-4093-4025-b50a-6e83f3c4b34d",
   "metadata": {},
   "outputs": [
    {
     "name": "stdout",
     "output_type": "stream",
     "text": [
      "140734484390824\n",
      "140734484390856\n",
      "140734484390888\n",
      "140734484390920\n"
     ]
    }
   ],
   "source": [
    "print(id(l1[0]))\n",
    "print(id(l1[1]))\n",
    "print(id(l1[2]))\n",
    "print(id(l1[3]))"
   ]
  },
  {
   "cell_type": "code",
   "execution_count": 6,
   "id": "38d5e170-6f80-477d-bf98-b8c331d5ddc8",
   "metadata": {},
   "outputs": [
    {
     "name": "stdin",
     "output_type": "stream",
     "text": [
      " I'm Naik Siddhesh\n"
     ]
    }
   ],
   "source": [
    "l2 = input().split(' ')"
   ]
  },
  {
   "cell_type": "code",
   "execution_count": 7,
   "id": "bf7724c3-edbb-48db-b2f4-6f2ab3e07394",
   "metadata": {},
   "outputs": [
    {
     "data": {
      "text/plain": [
       "[\"I'm\", 'Naik', 'Siddhesh']"
      ]
     },
     "execution_count": 7,
     "metadata": {},
     "output_type": "execute_result"
    }
   ],
   "source": [
    "l2"
   ]
  },
  {
   "cell_type": "markdown",
   "id": "e98cfa35-13ff-40fd-8057-6bddb600a623",
   "metadata": {},
   "source": [
    "- string data"
   ]
  },
  {
   "cell_type": "code",
   "execution_count": 21,
   "id": "b80f3d16-83b7-4332-8afc-bd8eb60ab1e1",
   "metadata": {},
   "outputs": [
    {
     "name": "stdin",
     "output_type": "stream",
     "text": [
      " 1 2 3 4 5 6\n"
     ]
    }
   ],
   "source": [
    "l3 = list((input()).split(' ' ))"
   ]
  },
  {
   "cell_type": "code",
   "execution_count": 22,
   "id": "d3d09e16-d375-49aa-ae69-4b0b7e0e7c05",
   "metadata": {},
   "outputs": [
    {
     "data": {
      "text/plain": [
       "['1', '2', '3', '4', '5', '6']"
      ]
     },
     "execution_count": 22,
     "metadata": {},
     "output_type": "execute_result"
    }
   ],
   "source": [
    "l3"
   ]
  },
  {
   "cell_type": "markdown",
   "id": "525ec553-aab8-4bfb-853b-31da72a401d6",
   "metadata": {},
   "source": [
    "- integer data"
   ]
  },
  {
   "cell_type": "code",
   "execution_count": 14,
   "id": "23820250-2072-48cd-a4a3-97701cb366b0",
   "metadata": {},
   "outputs": [
    {
     "name": "stdin",
     "output_type": "stream",
     "text": [
      " 12345\n"
     ]
    }
   ],
   "source": [
    "l4 = list(map(int, input()))"
   ]
  },
  {
   "cell_type": "code",
   "execution_count": 15,
   "id": "af5ca7f4-763c-4245-93f3-58657510454a",
   "metadata": {},
   "outputs": [
    {
     "data": {
      "text/plain": [
       "[1, 2, 3, 4, 5]"
      ]
     },
     "execution_count": 15,
     "metadata": {},
     "output_type": "execute_result"
    }
   ],
   "source": [
    "l4"
   ]
  },
  {
   "cell_type": "code",
   "execution_count": 26,
   "id": "6696d577-789c-4bea-8ea5-a479762830e8",
   "metadata": {},
   "outputs": [
    {
     "name": "stdin",
     "output_type": "stream",
     "text": [
      "Enter list size :  3\n",
      "Enter elements :  1\n"
     ]
    },
    {
     "ename": "IndexError",
     "evalue": "list assignment index out of range",
     "output_type": "error",
     "traceback": [
      "\u001b[31m---------------------------------------------------------------------------\u001b[39m",
      "\u001b[31mIndexError\u001b[39m                                Traceback (most recent call last)",
      "\u001b[36mCell\u001b[39m\u001b[36m \u001b[39m\u001b[32mIn[26]\u001b[39m\u001b[32m, line 8\u001b[39m\n\u001b[32m      6\u001b[39m \u001b[38;5;28;01mfor\u001b[39;00m i \u001b[38;5;129;01min\u001b[39;00m \u001b[38;5;28mrange\u001b[39m(\u001b[32m0\u001b[39m, n):\n\u001b[32m      7\u001b[39m     val = \u001b[38;5;28mint\u001b[39m(\u001b[38;5;28minput\u001b[39m(\u001b[33m'\u001b[39m\u001b[33mEnter elements : \u001b[39m\u001b[33m'\u001b[39m))\n\u001b[32m----> \u001b[39m\u001b[32m8\u001b[39m     \u001b[43mls\u001b[49m\u001b[43m[\u001b[49m\u001b[43mi\u001b[49m\u001b[43m]\u001b[49m = val\n\u001b[32m     10\u001b[39m ls\n",
      "\u001b[31mIndexError\u001b[39m: list assignment index out of range"
     ]
    }
   ],
   "source": [
    "#initially no index is present becoz we creatind an empty list\n",
    "n = int(input('Enter list size : '))\n",
    "\n",
    "ls = []\n",
    "\n",
    "for i in range(0, n):\n",
    "    val = int(input('Enter elements : '))\n",
    "    ls[i] = val\n",
    "\n",
    "ls"
   ]
  },
  {
   "cell_type": "code",
   "execution_count": 25,
   "id": "470e03b3-7b4f-4a9d-b105-ef2f0a340760",
   "metadata": {},
   "outputs": [
    {
     "name": "stdin",
     "output_type": "stream",
     "text": [
      "Enter list size :  3\n",
      "Enter elements :  1\n",
      "Enter elements :  2\n",
      "Enter elements :  3\n"
     ]
    },
    {
     "data": {
      "text/plain": [
       "[1, 2, 3]"
      ]
     },
     "execution_count": 25,
     "metadata": {},
     "output_type": "execute_result"
    }
   ],
   "source": [
    "n = int(input('Enter list size : '))\n",
    "\n",
    "ls = []\n",
    "\n",
    "for i in range(0, n):\n",
    "    val = int(input('Enter elements : '))\n",
    "    ls.append(val)\n",
    "\n",
    "ls\n"
   ]
  },
  {
   "cell_type": "markdown",
   "id": "f9f2dc0e-5ae9-42f0-b98b-8322614a2ff0",
   "metadata": {},
   "source": [
    "### accessing/ traversing the list"
   ]
  },
  {
   "cell_type": "code",
   "execution_count": 27,
   "id": "aa2d0dc6-fcfa-4704-970d-1a343fb1a50f",
   "metadata": {},
   "outputs": [
    {
     "name": "stdout",
     "output_type": "stream",
     "text": [
      "1\n",
      "2\n",
      "3\n",
      "4\n",
      "5\n"
     ]
    }
   ],
   "source": [
    "ls1 = [1,2,3,4,5]\n",
    "for i in ls1:\n",
    "    print(i)"
   ]
  },
  {
   "cell_type": "code",
   "execution_count": 28,
   "id": "6eeaf5cc-a694-4763-a9c2-b1f102bdfde9",
   "metadata": {},
   "outputs": [
    {
     "name": "stdout",
     "output_type": "stream",
     "text": [
      "1\n",
      "2\n",
      "3\n",
      "4\n",
      "5\n"
     ]
    }
   ],
   "source": [
    "for i in range(len(ls1)):\n",
    "    print(ls1[i])"
   ]
  },
  {
   "cell_type": "markdown",
   "id": "123764b6-4628-49a0-b885-6e1d057d32d1",
   "metadata": {},
   "source": [
    "- enumerate function"
   ]
  },
  {
   "cell_type": "code",
   "execution_count": 29,
   "id": "027ea176-795e-4e7d-b28a-fff5cd9fac52",
   "metadata": {},
   "outputs": [
    {
     "name": "stdout",
     "output_type": "stream",
     "text": [
      "Index 0 : 1\n",
      "Index 1 : 2\n",
      "Index 2 : 3\n",
      "Index 3 : 4\n",
      "Index 4 : 5\n"
     ]
    }
   ],
   "source": [
    "for indx, i in enumerate(ls1):\n",
    "    print(f'Index {indx} : {i}')"
   ]
  },
  {
   "cell_type": "markdown",
   "id": "162e2b81-7ac9-4ba0-8cac-2e6d423b215b",
   "metadata": {},
   "source": [
    "# FUNCTIONS\n",
    "\n",
    "- append -> it adds element at the end\n",
    "- extend -> merges to list/ add multiple element\n",
    "- del -> deletes element\n",
    "- copy -> deep copy\n",
    "- count -> cunts frequency of particular element\n",
    "- sort -> sorts the list **T.C. O(nlogn)**"
   ]
  },
  {
   "cell_type": "code",
   "execution_count": 30,
   "id": "4711e0cb-d3ea-4c20-87b1-8bab840e276f",
   "metadata": {},
   "outputs": [],
   "source": [
    "list1 = [1, 2, 3, 4, 5, 'sid']"
   ]
  },
  {
   "cell_type": "code",
   "execution_count": 31,
   "id": "14103234-b523-45dd-aeef-0af93823788d",
   "metadata": {},
   "outputs": [
    {
     "data": {
      "text/plain": [
       "[1, 2, 3, 4, 5, 'sid', 'sam']"
      ]
     },
     "execution_count": 31,
     "metadata": {},
     "output_type": "execute_result"
    }
   ],
   "source": [
    "list1.append('sam')\n",
    "list1"
   ]
  },
  {
   "cell_type": "code",
   "execution_count": 32,
   "id": "44bbfd59-6ab7-4e9a-9824-08479c1b4cc4",
   "metadata": {},
   "outputs": [
    {
     "data": {
      "text/plain": [
       "['Naik', 1, 2, 3, 4, 5, 'sid', 'sam']"
      ]
     },
     "execution_count": 32,
     "metadata": {},
     "output_type": "execute_result"
    }
   ],
   "source": [
    "list1.insert(0,'Naik')\n",
    "list1"
   ]
  },
  {
   "cell_type": "code",
   "execution_count": 60,
   "id": "b4ee30d0-033a-4aee-8e0d-c9920499fbac",
   "metadata": {},
   "outputs": [
    {
     "data": {
      "text/plain": [
       "5"
      ]
     },
     "execution_count": 60,
     "metadata": {},
     "output_type": "execute_result"
    }
   ],
   "source": [
    "list1.index('sid')"
   ]
  },
  {
   "cell_type": "code",
   "execution_count": 34,
   "id": "358876e5-8a38-433f-b750-299b3a9418fb",
   "metadata": {},
   "outputs": [
    {
     "data": {
      "text/plain": [
       "['Naik', 1, 3, 4, 5, 'sid', 'sam']"
      ]
     },
     "execution_count": 34,
     "metadata": {},
     "output_type": "execute_result"
    }
   ],
   "source": [
    "del(list1[2])\n",
    "list1"
   ]
  },
  {
   "cell_type": "code",
   "execution_count": 35,
   "id": "fcf42971-df49-480c-9501-bef4a15a10d9",
   "metadata": {},
   "outputs": [
    {
     "data": {
      "text/plain": [
       "['Naik', 1, 3, 4, 5, 'sid', 'sam', 9, 8, 7]"
      ]
     },
     "execution_count": 35,
     "metadata": {},
     "output_type": "execute_result"
    }
   ],
   "source": [
    "list1.extend([9, 8, 7])\n",
    "list1"
   ]
  },
  {
   "cell_type": "code",
   "execution_count": 36,
   "id": "bcaef258-86df-4950-93f6-0fa0c55958d8",
   "metadata": {},
   "outputs": [
    {
     "name": "stdout",
     "output_type": "stream",
     "text": [
      "10\n"
     ]
    }
   ],
   "source": [
    "print(len(list1))"
   ]
  },
  {
   "cell_type": "code",
   "execution_count": 38,
   "id": "0cef4da5-b0f4-49b5-9e05-460bc3bc30fa",
   "metadata": {},
   "outputs": [
    {
     "name": "stdout",
     "output_type": "stream",
     "text": [
      "0\n",
      "1\n"
     ]
    }
   ],
   "source": [
    "print(list1.count(2))\n",
    "print(list1.count(4))"
   ]
  },
  {
   "cell_type": "markdown",
   "id": "d26791a2-2c93-4ce5-8a58-5a5c4b220c22",
   "metadata": {},
   "source": [
    "## shallow copy"
   ]
  },
  {
   "cell_type": "code",
   "execution_count": 39,
   "id": "7b703009-da9e-4d8e-844c-649d950c83a8",
   "metadata": {},
   "outputs": [
    {
     "data": {
      "text/plain": [
       "['Naik', 1, 3, 4, 5, 'sid', 'sam', 9, 8, 7]"
      ]
     },
     "execution_count": 39,
     "metadata": {},
     "output_type": "execute_result"
    }
   ],
   "source": [
    "list2 = list1\n",
    "list2"
   ]
  },
  {
   "cell_type": "code",
   "execution_count": 40,
   "id": "aefde1f5-600a-417a-acad-36c82f66514a",
   "metadata": {},
   "outputs": [
    {
     "name": "stdout",
     "output_type": "stream",
     "text": [
      "2235364706560\n",
      "2235364706560\n"
     ]
    }
   ],
   "source": [
    "print(id(list1))\n",
    "print(id(list1))"
   ]
  },
  {
   "cell_type": "code",
   "execution_count": 45,
   "id": "538bb1a8-7ab7-4e27-83ea-8933055e4fd5",
   "metadata": {},
   "outputs": [
    {
     "name": "stdout",
     "output_type": "stream",
     "text": [
      "['san', 1, 3, 4, 5, 'sid', 'sam', 9, 8, 7]\n",
      "['san', 1, 3, 4, 5, 'sid', 'sam', 9, 8, 7]\n"
     ]
    }
   ],
   "source": [
    "list2[0] = 'san'\n",
    "\n",
    "print(list1)\n",
    "print(list2)"
   ]
  },
  {
   "cell_type": "markdown",
   "id": "9c464a1b-f430-41db-a15a-9eb5347751d9",
   "metadata": {},
   "source": [
    "## Deep Copy"
   ]
  },
  {
   "cell_type": "code",
   "execution_count": 42,
   "id": "54e72f75-ac78-4588-a4f7-adff435c99c6",
   "metadata": {},
   "outputs": [
    {
     "name": "stdout",
     "output_type": "stream",
     "text": [
      "2235364706560\n",
      "2235364359680\n"
     ]
    }
   ],
   "source": [
    "list3 = list1.copy()\n",
    "list3\n",
    "\n",
    "print(id(list1))\n",
    "print(id(list3))"
   ]
  },
  {
   "cell_type": "code",
   "execution_count": 48,
   "id": "ec9c864d-0bd0-4c1f-bc5f-b96dcdf7e70d",
   "metadata": {},
   "outputs": [
    {
     "name": "stdout",
     "output_type": "stream",
     "text": [
      "['san', 1, 3, 4, 5, 'sid', 'sam', 9, 8, 7]\n",
      "['wayal', 1, 3, 4, 5, 'sid', 'sam', 9, 8, 7]\n"
     ]
    }
   ],
   "source": [
    "list3[0] = 'wayal'\n",
    "\n",
    "print(list1)\n",
    "print(list3)"
   ]
  },
  {
   "cell_type": "code",
   "execution_count": 49,
   "id": "02e7823e-3bc1-44a5-8a20-4e0070e3aa21",
   "metadata": {},
   "outputs": [
    {
     "ename": "TypeError",
     "evalue": "'<' not supported between instances of 'int' and 'str'",
     "output_type": "error",
     "traceback": [
      "\u001b[31m---------------------------------------------------------------------------\u001b[39m",
      "\u001b[31mTypeError\u001b[39m                                 Traceback (most recent call last)",
      "\u001b[36mCell\u001b[39m\u001b[36m \u001b[39m\u001b[32mIn[49]\u001b[39m\u001b[32m, line 1\u001b[39m\n\u001b[32m----> \u001b[39m\u001b[32m1\u001b[39m \u001b[43mlist3\u001b[49m\u001b[43m.\u001b[49m\u001b[43msort\u001b[49m\u001b[43m(\u001b[49m\u001b[43m)\u001b[49m\n\u001b[32m      2\u001b[39m list3\n",
      "\u001b[31mTypeError\u001b[39m: '<' not supported between instances of 'int' and 'str'"
     ]
    }
   ],
   "source": [
    "list3.sort()\n",
    "list3"
   ]
  },
  {
   "cell_type": "code",
   "execution_count": 50,
   "id": "d08b398d-306d-4cbc-9769-df561f3a3b6c",
   "metadata": {},
   "outputs": [],
   "source": [
    "del(list3[0])\n",
    "del(list3[5])\n",
    "del(list3[6])"
   ]
  },
  {
   "cell_type": "code",
   "execution_count": 51,
   "id": "b8dea6a7-985b-430c-99c3-3a0d73cc2382",
   "metadata": {},
   "outputs": [
    {
     "data": {
      "text/plain": [
       "[1, 3, 4, 5, 'sid', 9, 7]"
      ]
     },
     "execution_count": 51,
     "metadata": {},
     "output_type": "execute_result"
    }
   ],
   "source": [
    "list3"
   ]
  },
  {
   "cell_type": "code",
   "execution_count": 52,
   "id": "1a1d73a7-76fd-420e-803d-64c7acbe28e6",
   "metadata": {},
   "outputs": [],
   "source": [
    "del(list3[4])"
   ]
  },
  {
   "cell_type": "code",
   "execution_count": 53,
   "id": "1ebbdf5c-b85c-4c25-bc09-6d27142e79c7",
   "metadata": {},
   "outputs": [
    {
     "data": {
      "text/plain": [
       "[9, 7, 5, 4, 3, 1]"
      ]
     },
     "execution_count": 53,
     "metadata": {},
     "output_type": "execute_result"
    }
   ],
   "source": [
    "list3.sort(reverse=True)\n",
    "list3"
   ]
  },
  {
   "cell_type": "code",
   "execution_count": 54,
   "id": "0fc67d3b-b411-4cdf-8781-dc6c9565cfc6",
   "metadata": {},
   "outputs": [
    {
     "data": {
      "text/plain": [
       "[7, 5, 4, 3, 1]"
      ]
     },
     "execution_count": 54,
     "metadata": {},
     "output_type": "execute_result"
    }
   ],
   "source": [
    "list3.remove(9)\n",
    "list3"
   ]
  },
  {
   "cell_type": "code",
   "execution_count": 55,
   "id": "a387616c-7155-4200-beb5-9ad697f222a3",
   "metadata": {},
   "outputs": [
    {
     "data": {
      "text/plain": [
       "[7, 5, 4, 3]"
      ]
     },
     "execution_count": 55,
     "metadata": {},
     "output_type": "execute_result"
    }
   ],
   "source": [
    "list3.pop()\n",
    "list3"
   ]
  },
  {
   "cell_type": "code",
   "execution_count": 56,
   "id": "5ea18c82-29a8-4eb9-8935-1c0596c80d6d",
   "metadata": {},
   "outputs": [
    {
     "data": {
      "text/plain": [
       "[5, 4, 3]"
      ]
     },
     "execution_count": 56,
     "metadata": {},
     "output_type": "execute_result"
    }
   ],
   "source": [
    "list3.pop(0)\n",
    "list3"
   ]
  },
  {
   "cell_type": "code",
   "execution_count": 57,
   "id": "4ade0e8d-3289-42a0-8c53-e6b107fc3906",
   "metadata": {},
   "outputs": [],
   "source": [
    "list3.clear()"
   ]
  },
  {
   "cell_type": "code",
   "execution_count": 58,
   "id": "b814c35e-2970-42db-9f5c-a5c841f1338e",
   "metadata": {},
   "outputs": [
    {
     "data": {
      "text/plain": [
       "[]"
      ]
     },
     "execution_count": 58,
     "metadata": {},
     "output_type": "execute_result"
    }
   ],
   "source": [
    "list3"
   ]
  },
  {
   "cell_type": "code",
   "execution_count": 59,
   "id": "158f0d2d-28bc-4294-a8a1-8141b0f42727",
   "metadata": {},
   "outputs": [
    {
     "name": "stdout",
     "output_type": "stream",
     "text": [
      "2235364359680\n"
     ]
    }
   ],
   "source": [
    "print(id(list3))"
   ]
  },
  {
   "cell_type": "code",
   "execution_count": 61,
   "id": "5f3cdc51-dc15-4aec-8db2-169c7f653514",
   "metadata": {},
   "outputs": [
    {
     "data": {
      "text/plain": [
       "[9, 7, 5, 4, 3, 1]"
      ]
     },
     "execution_count": 61,
     "metadata": {},
     "output_type": "execute_result"
    }
   ],
   "source": [
    "list4 = [9, 7, 5, 4, 3, 1]\n",
    "list4"
   ]
  },
  {
   "cell_type": "code",
   "execution_count": 63,
   "id": "4c845403-64b7-4736-b519-231e7e1b9760",
   "metadata": {},
   "outputs": [
    {
     "data": {
      "text/plain": [
       "29"
      ]
     },
     "execution_count": 63,
     "metadata": {},
     "output_type": "execute_result"
    }
   ],
   "source": [
    "sum(list4)"
   ]
  },
  {
   "cell_type": "code",
   "execution_count": 64,
   "id": "760f75fa-9e67-4b23-87d5-ee7be3571774",
   "metadata": {},
   "outputs": [
    {
     "data": {
      "text/plain": [
       "1"
      ]
     },
     "execution_count": 64,
     "metadata": {},
     "output_type": "execute_result"
    }
   ],
   "source": [
    "max(list4)\n",
    "min(list4)"
   ]
  },
  {
   "cell_type": "code",
   "execution_count": 66,
   "id": "9611ba15-448c-4de4-8d5e-b347b3870316",
   "metadata": {},
   "outputs": [],
   "source": [
    "list4.insert(2,0)"
   ]
  },
  {
   "cell_type": "code",
   "execution_count": 67,
   "id": "d942e941-07f7-46e7-9978-274d9a2b5755",
   "metadata": {},
   "outputs": [
    {
     "data": {
      "text/plain": [
       "False"
      ]
     },
     "execution_count": 67,
     "metadata": {},
     "output_type": "execute_result"
    }
   ],
   "source": [
    "all(list4)"
   ]
  },
  {
   "cell_type": "code",
   "execution_count": 68,
   "id": "6be63bb6-b519-4a0d-b546-bde03cf73b45",
   "metadata": {},
   "outputs": [
    {
     "data": {
      "text/plain": [
       "True"
      ]
     },
     "execution_count": 68,
     "metadata": {},
     "output_type": "execute_result"
    }
   ],
   "source": [
    "any(list4)"
   ]
  },
  {
   "cell_type": "markdown",
   "id": "ee164770-bcec-4df4-9737-f25d9fbb8544",
   "metadata": {},
   "source": [
    "### Operations on List"
   ]
  },
  {
   "cell_type": "code",
   "execution_count": 69,
   "id": "8bdf3b99-9c11-4898-a709-bf5e9e09ccb7",
   "metadata": {},
   "outputs": [
    {
     "data": {
      "text/plain": [
       "['san', 1, 3, 4, 5, 'sid', 'sam', 9, 8, 7, 9, 7, 0, 5, 4, 3, 1]"
      ]
     },
     "execution_count": 69,
     "metadata": {},
     "output_type": "execute_result"
    }
   ],
   "source": [
    "list1+list4"
   ]
  },
  {
   "cell_type": "code",
   "execution_count": 72,
   "id": "4c43c1a7-5d87-4031-a7ae-d39074912995",
   "metadata": {},
   "outputs": [
    {
     "data": {
      "text/plain": [
       "[9, 7, 0, 5, 4, 3, 1, 9, 7, 0, 5, 4, 3, 1, 9, 7, 0, 5, 4, 3, 1]"
      ]
     },
     "execution_count": 72,
     "metadata": {},
     "output_type": "execute_result"
    }
   ],
   "source": [
    "list5 = list4 * 3\n",
    "list5"
   ]
  },
  {
   "cell_type": "code",
   "execution_count": 73,
   "id": "6ba971bf-08a2-45f0-8eea-e3ffec44a592",
   "metadata": {},
   "outputs": [
    {
     "data": {
      "text/plain": [
       "True"
      ]
     },
     "execution_count": 73,
     "metadata": {},
     "output_type": "execute_result"
    }
   ],
   "source": [
    "0 in list5"
   ]
  },
  {
   "cell_type": "code",
   "execution_count": 74,
   "id": "f80137d3-b669-4a7c-ad2d-7a9ec0a7f3b4",
   "metadata": {},
   "outputs": [
    {
     "data": {
      "text/plain": [
       "False"
      ]
     },
     "execution_count": 74,
     "metadata": {},
     "output_type": "execute_result"
    }
   ],
   "source": [
    "10 in list5"
   ]
  },
  {
   "cell_type": "markdown",
   "id": "b7734681-58a1-471e-96c9-b9f5ad6537ac",
   "metadata": {},
   "source": [
    "### LIST COMPREHENSION\n",
    "**Syntax of list comprehension**\n",
    " [ouput input condition]\n",
    "- output \n",
    "- input\n",
    "- Condition (Optional)"
   ]
  },
  {
   "cell_type": "code",
   "execution_count": 77,
   "id": "70dd4dcf-411f-425c-a1f7-245e07ab5bde",
   "metadata": {},
   "outputs": [],
   "source": [
    "l1 = [x**2 for x in range(1, 21) if x%2 ==0]"
   ]
  },
  {
   "cell_type": "code",
   "execution_count": 78,
   "id": "db682694-ee99-40cb-9ed9-fc5043d2ba42",
   "metadata": {},
   "outputs": [
    {
     "data": {
      "text/plain": [
       "[4, 16, 36, 64, 100, 144, 196, 256, 324, 400]"
      ]
     },
     "execution_count": 78,
     "metadata": {},
     "output_type": "execute_result"
    }
   ],
   "source": [
    "l1"
   ]
  },
  {
   "cell_type": "code",
   "execution_count": 79,
   "id": "cfb641a0-39c3-4ebc-95ef-db581ee3a33e",
   "metadata": {},
   "outputs": [],
   "source": [
    "l2 = [x**3 for x in range(1,51) if x%2!=0]"
   ]
  },
  {
   "cell_type": "code",
   "execution_count": 80,
   "id": "d7949e03-9203-4525-919e-68b2576d7c72",
   "metadata": {},
   "outputs": [
    {
     "data": {
      "text/plain": [
       "[1,\n",
       " 27,\n",
       " 125,\n",
       " 343,\n",
       " 729,\n",
       " 1331,\n",
       " 2197,\n",
       " 3375,\n",
       " 4913,\n",
       " 6859,\n",
       " 9261,\n",
       " 12167,\n",
       " 15625,\n",
       " 19683,\n",
       " 24389,\n",
       " 29791,\n",
       " 35937,\n",
       " 42875,\n",
       " 50653,\n",
       " 59319,\n",
       " 68921,\n",
       " 79507,\n",
       " 91125,\n",
       " 103823,\n",
       " 117649]"
      ]
     },
     "execution_count": 80,
     "metadata": {},
     "output_type": "execute_result"
    }
   ],
   "source": [
    "l2"
   ]
  },
  {
   "cell_type": "code",
   "execution_count": null,
   "id": "bd39c58b-b849-43aa-b351-33e03b8ee975",
   "metadata": {},
   "outputs": [],
   "source": []
  }
 ],
 "metadata": {
  "kernelspec": {
   "display_name": "Python 3 (ipykernel)",
   "language": "python",
   "name": "python3"
  },
  "language_info": {
   "codemirror_mode": {
    "name": "ipython",
    "version": 3
   },
   "file_extension": ".py",
   "mimetype": "text/x-python",
   "name": "python",
   "nbconvert_exporter": "python",
   "pygments_lexer": "ipython3",
   "version": "3.13.3"
  }
 },
 "nbformat": 4,
 "nbformat_minor": 5
}
