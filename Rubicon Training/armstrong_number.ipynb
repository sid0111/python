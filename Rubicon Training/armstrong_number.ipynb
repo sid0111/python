{
 "cells": [
  {
   "cell_type": "markdown",
   "id": "ab560f58-a224-437d-8ed2-bbe98269914b",
   "metadata": {},
   "source": [
    "### Armstrong Number"
   ]
  },
  {
   "cell_type": "code",
   "execution_count": 11,
   "id": "d7fc805e-a6e8-4e5c-b373-3c616deda45b",
   "metadata": {},
   "outputs": [
    {
     "name": "stdin",
     "output_type": "stream",
     "text": [
      "Enter the number to check :  9474\n"
     ]
    },
    {
     "name": "stdout",
     "output_type": "stream",
     "text": [
      "Armsstrong number\n"
     ]
    }
   ],
   "source": [
    "#my approach\n",
    "num = int(input('Enter the number to check : '))\n",
    "count = 0\n",
    "sum = 0\n",
    "sd = num\n",
    "real = num\n",
    "\n",
    "while num>0:\n",
    "    num = num//10\n",
    "    count += 1\n",
    "\n",
    "while sd>0:\n",
    "    rem = sd%10\n",
    "    sd = sd//10\n",
    "    sum+= (rem**count)\n",
    "\n",
    "if real == sum:\n",
    "    print('Armsstrong number')\n",
    "else:\n",
    "    print('Its not')"
   ]
  },
  {
   "cell_type": "code",
   "execution_count": 15,
   "id": "7acf1b5a-87f8-4229-bdc2-efcf6be3444d",
   "metadata": {},
   "outputs": [
    {
     "name": "stdin",
     "output_type": "stream",
     "text": [
      "Enter number :  9474\n"
     ]
    },
    {
     "name": "stdout",
     "output_type": "stream",
     "text": [
      "9474\n"
     ]
    }
   ],
   "source": [
    "#appraoch 2\n",
    "num = int(input('Enter number : '))\n",
    "count = len(str(num)) #we can convert it into string and then use function to calculate the length\n",
    "copy = num\n",
    "sum = 0\n",
    "\n",
    "while num>0:\n",
    "    rem = num%10\n",
    "    sum += rem**count\n",
    "    num//=10\n",
    "\n",
    "print(sum)\n"
   ]
  },
  {
   "cell_type": "markdown",
   "id": "5da35ba4-efdb-4acb-9d9a-01780ca8d309",
   "metadata": {},
   "source": [
    "### Reversing number"
   ]
  },
  {
   "cell_type": "code",
   "execution_count": 17,
   "id": "dacc4fba-0cf7-4d01-90e6-a616255e7d74",
   "metadata": {},
   "outputs": [
    {
     "name": "stdin",
     "output_type": "stream",
     "text": [
      "Enter number :  1234\n"
     ]
    },
    {
     "name": "stdout",
     "output_type": "stream",
     "text": [
      "4321\n"
     ]
    }
   ],
   "source": [
    "num = int(input('Enter number : '))\n",
    "rev = 0\n",
    "\n",
    "while num>0:\n",
    "    rem = num%10\n",
    "    rev = rev*10+rem\n",
    "    num//=10\n",
    "\n",
    "print(rev)"
   ]
  },
  {
   "cell_type": "code",
   "execution_count": null,
   "id": "9fef3c97-95e7-4936-8032-8b607eef9bd2",
   "metadata": {},
   "outputs": [],
   "source": []
  }
 ],
 "metadata": {
  "kernelspec": {
   "display_name": "Python 3 (ipykernel)",
   "language": "python",
   "name": "python3"
  },
  "language_info": {
   "codemirror_mode": {
    "name": "ipython",
    "version": 3
   },
   "file_extension": ".py",
   "mimetype": "text/x-python",
   "name": "python",
   "nbconvert_exporter": "python",
   "pygments_lexer": "ipython3",
   "version": "3.13.3"
  }
 },
 "nbformat": 4,
 "nbformat_minor": 5
}
