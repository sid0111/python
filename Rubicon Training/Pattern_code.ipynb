{
 "cells": [
  {
   "cell_type": "code",
   "execution_count": 6,
   "id": "8b4f79e7-94f9-4459-bfcd-9b00aa6bcfb6",
   "metadata": {},
   "outputs": [
    {
     "name": "stdout",
     "output_type": "stream",
     "text": [
      "* \n",
      "* * \n",
      "* * * \n",
      "* * * * \n"
     ]
    }
   ],
   "source": [
    "#my approach\n",
    "for i in range(1, 5):\n",
    "    for j in range(1, (i+1)):\n",
    "        print('*', end=\" \")\n",
    "    print()"
   ]
  },
  {
   "cell_type": "code",
   "execution_count": 7,
   "id": "867f1db9-6a25-4ad6-b92b-d74bc5e88a40",
   "metadata": {},
   "outputs": [
    {
     "name": "stdout",
     "output_type": "stream",
     "text": [
      "*\n",
      "**\n",
      "***\n",
      "****\n",
      "*****\n"
     ]
    }
   ],
   "source": [
    "#Approach2\n",
    "\n",
    "for i in range(1, 6):\n",
    "    print(\"*\"*i)"
   ]
  },
  {
   "cell_type": "code",
   "execution_count": 13,
   "id": "a697ee31-180d-4812-93af-113a397303a2",
   "metadata": {},
   "outputs": [
    {
     "name": "stdout",
     "output_type": "stream",
     "text": [
      "     *\n",
      "    ***\n",
      "   *****\n",
      "  *******\n",
      " *********\n"
     ]
    }
   ],
   "source": [
    "#pattern second\n",
    "\n",
    "n = 6\n",
    "for i in range(1, n):\n",
    "    print(' '*(n-i), end=\"\")\n",
    "    print('*'*(i*2-1))\n",
    "    "
   ]
  },
  {
   "cell_type": "code",
   "execution_count": 15,
   "id": "fae18c15-cfa5-4e58-9bc5-9c14a7a94132",
   "metadata": {},
   "outputs": [
    {
     "name": "stdout",
     "output_type": "stream",
     "text": [
      "*      \n",
      "***     \n"
     ]
    }
   ],
   "source": [
    "n = 6\n",
    "for i in range(1, n+1):\n",
    "    if (i < n/2):\n",
    "        print('*'*(i*2-1),\" \"*(n-i))"
   ]
  },
  {
   "cell_type": "code",
   "execution_count": 21,
   "id": "2d43ecb5-a7b2-4361-8641-f4bef5560e7e",
   "metadata": {},
   "outputs": [
    {
     "name": "stdin",
     "output_type": "stream",
     "text": [
      "Enter number :  8\n"
     ]
    },
    {
     "name": "stdout",
     "output_type": "stream",
     "text": [
      "        *\n",
      "       ***\n",
      "      *****\n",
      "     *******\n",
      "    *********\n",
      "   ***********\n",
      "  *************\n",
      " ***************\n",
      "  *************\n",
      "   ***********\n",
      "    *********\n",
      "     *******\n",
      "      *****\n",
      "       ***\n",
      "        *\n"
     ]
    }
   ],
   "source": [
    "n = int(input(\"Enter number : \"))\n",
    "\n",
    "for i in range(i, n+1):\n",
    "    print(\" \"*(n-i),'*'*((i*2)-1))\n",
    "for i in range((n-1), 0, -1):\n",
    "    print(\" \"*(n-i),'*'*((i*2)-1))"
   ]
  },
  {
   "cell_type": "code",
   "execution_count": 31,
   "id": "7a67cf3f-57be-4da2-b123-950c5aa33afb",
   "metadata": {},
   "outputs": [
    {
     "name": "stdin",
     "output_type": "stream",
     "text": [
      "enter number 6\n"
     ]
    },
    {
     "name": "stdout",
     "output_type": "stream",
     "text": [
      "     *\n",
      "    * *\n",
      "   *   *\n",
      "  *     *\n",
      " *       *\n",
      "*         *\n"
     ]
    }
   ],
   "source": [
    "#practiceee\n",
    "n = int(input('enter number'))\n",
    "\n",
    "for i in range(1, n+1):\n",
    "    print(\" \"*(n-i), end=\"\")\n",
    "    for j in range(1, i*2):\n",
    "        if(j == 1 or j == (i*2)-1):\n",
    "            print(\"*\", end=\"\")\n",
    "        else:\n",
    "            print(\" \", end=\"\")\n",
    "    print()"
   ]
  },
  {
   "cell_type": "code",
   "execution_count": 37,
   "id": "151cffdd-12dd-4e27-a1d5-96a5c25f4258",
   "metadata": {},
   "outputs": [
    {
     "name": "stdin",
     "output_type": "stream",
     "text": [
      "enter number 6\n"
     ]
    },
    {
     "name": "stdout",
     "output_type": "stream",
     "text": [
      "     *\n",
      "    * *\n",
      "   *   *\n",
      "  *     *\n",
      " *       *\n",
      "*         *\n",
      " *       *\n",
      "  *     *\n",
      "   *   *\n",
      "    * *\n",
      "     *\n"
     ]
    }
   ],
   "source": [
    "\n",
    "n = int(input('enter number'))\n",
    "\n",
    "for i in range(1, n+1):\n",
    "    print(\" \"*(n-i), end=\"\")\n",
    "    for j in range(1, i*2):\n",
    "        if(j == 1 or j == (i*2)-1):\n",
    "            print(\"*\", end=\"\")\n",
    "        else:\n",
    "            print(\" \", end=\"\")\n",
    "    print()\n",
    "for i in range(n-1, 0, -1):\n",
    "    print(\" \"*(n-i), end=\"\")\n",
    "    for j in range(1, i*2):\n",
    "        if(j == 1 or j == (i*2)-1):\n",
    "            print(\"*\", end=\"\")\n",
    "        else:\n",
    "            print(\" \", end=\"\")\n",
    "    print()"
   ]
  },
  {
   "cell_type": "markdown",
   "id": "7f90ea94-ea93-4851-9eda-99e71f163d7d",
   "metadata": {},
   "source": [
    "# Calculate number of digit"
   ]
  },
  {
   "cell_type": "code",
   "execution_count": 39,
   "id": "df2fd5bd-600d-4537-8573-398df9b55f5d",
   "metadata": {},
   "outputs": [
    {
     "name": "stdout",
     "output_type": "stream",
     "text": [
      "11\n"
     ]
    }
   ],
   "source": [
    "n = 12354564654\n",
    "count = 0\n",
    "\n",
    "while n>0:\n",
    "    n = n//10\n",
    "    count +=1\n",
    "\n",
    "print(count)"
   ]
  },
  {
   "cell_type": "code",
   "execution_count": null,
   "id": "31678d40-9b97-4f27-8ed6-83a23031c9c6",
   "metadata": {},
   "outputs": [],
   "source": [
    "n = 123\n",
    "rev = 0\n",
    "while n > 0:\n",
    "    rem = n % 10\n",
    "    rev = rev*10+rem\n",
    "    n = n//10\n",
    "\n",
    "print(rev)"
   ]
  },
  {
   "cell_type": "code",
   "execution_count": null,
   "id": "b9f9e0b6-3e90-4c5d-bb81-2d6ec1ef72c7",
   "metadata": {},
   "outputs": [],
   "source": []
  }
 ],
 "metadata": {
  "kernelspec": {
   "display_name": "Python 3 (ipykernel)",
   "language": "python",
   "name": "python3"
  },
  "language_info": {
   "codemirror_mode": {
    "name": "ipython",
    "version": 3
   },
   "file_extension": ".py",
   "mimetype": "text/x-python",
   "name": "python",
   "nbconvert_exporter": "python",
   "pygments_lexer": "ipython3",
   "version": "3.13.3"
  }
 },
 "nbformat": 4,
 "nbformat_minor": 5
}
