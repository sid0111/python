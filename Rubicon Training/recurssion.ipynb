{
 "cells": [
  {
   "cell_type": "markdown",
   "id": "aede183f-3a35-4400-8ee9-099683e1511c",
   "metadata": {},
   "source": [
    "## RECURSION"
   ]
  },
  {
   "cell_type": "markdown",
   "id": "61c46d6f-28b2-4d7e-9d94-06250eaf0866",
   "metadata": {},
   "source": [
    "- Base condition\n",
    "- Recursion equation\n",
    "- stack memory(temporary memory for recurssion)"
   ]
  },
  {
   "cell_type": "code",
   "execution_count": 7,
   "id": "8792190a-d981-4ae8-9d6f-1496aeac613e",
   "metadata": {},
   "outputs": [
    {
     "name": "stdout",
     "output_type": "stream",
     "text": [
      "120\n"
     ]
    }
   ],
   "source": [
    "#factorial using loop\n",
    "fact = 1\n",
    "\n",
    "for i in range(1, 6):\n",
    "    fact*=i\n",
    "\n",
    "print(fact)"
   ]
  },
  {
   "cell_type": "code",
   "execution_count": 9,
   "id": "cdc8333e-d781-41e8-b6a8-eebc87de8af7",
   "metadata": {},
   "outputs": [
    {
     "name": "stdout",
     "output_type": "stream",
     "text": [
      "120\n"
     ]
    }
   ],
   "source": [
    "#factorial using recusrsion\n",
    "\n",
    "def fact(n):\n",
    "    if n==1:\n",
    "        return 1\n",
    "    return fact(n-1)*n\n",
    "\n",
    "factorial = fact(5)\n",
    "print(factorial)"
   ]
  },
  {
   "cell_type": "code",
   "execution_count": 16,
   "id": "48f6121a-1923-4e1e-bcd9-a860375e69d9",
   "metadata": {},
   "outputs": [
    {
     "data": {
      "text/plain": [
       "34"
      ]
     },
     "execution_count": 16,
     "metadata": {},
     "output_type": "execute_result"
    }
   ],
   "source": [
    "# Fibonacci series\n",
    "\n",
    "def fibonacci_series(n):\n",
    "    if n==0 or n==1:\n",
    "        return n\n",
    "    return fibonacci_series(n-2)+fibonacci_series(n-1)\n",
    "  \n",
    "\n",
    "fibonacci_series(9)"
   ]
  },
  {
   "cell_type": "code",
   "execution_count": 19,
   "id": "d02cbe88-605f-4706-8813-09b050afb161",
   "metadata": {},
   "outputs": [
    {
     "name": "stdout",
     "output_type": "stream",
     "text": [
      "10\n"
     ]
    }
   ],
   "source": [
    "# sum of digit\n",
    "\n",
    "num = 1234\n",
    "sum = 0\n",
    "\n",
    "while num>0:\n",
    "    rem = num%10\n",
    "    sum += rem\n",
    "    num//=10\n",
    "\n",
    "print(sum)"
   ]
  },
  {
   "cell_type": "code",
   "execution_count": 21,
   "id": "dadb0553-79df-426d-b514-c27796ed071f",
   "metadata": {},
   "outputs": [
    {
     "data": {
      "text/plain": [
       "14"
      ]
     },
     "execution_count": 21,
     "metadata": {},
     "output_type": "execute_result"
    }
   ],
   "source": [
    "# sum of digit using recurssion\n",
    "\n",
    "def sod(num):\n",
    "    if num <= 0:\n",
    "        return 0\n",
    "    rem = num%10\n",
    "    num //= 10\n",
    "    return rem + sod(num)\n",
    "\n",
    "sod(2345)\n"
   ]
  },
  {
   "cell_type": "code",
   "execution_count": 33,
   "id": "bd56ad5f-cd8b-4ba5-8709-e88ef473f891",
   "metadata": {},
   "outputs": [
    {
     "name": "stdout",
     "output_type": "stream",
     "text": [
      "Palindrome number\n"
     ]
    }
   ],
   "source": [
    "# palindrome\n",
    "\n",
    "num = 123454321\n",
    "copy = num\n",
    "rev = 0\n",
    "\n",
    "while num>0:\n",
    "    rem = num%10\n",
    "    rev = rev*10+rem\n",
    "    num//=10\n",
    "\n",
    "if(rev == copy):\n",
    "    print('Palindrome number')\n",
    "else:\n",
    "    print('Not Palindrome')"
   ]
  },
  {
   "cell_type": "code",
   "execution_count": 44,
   "id": "157a8a17-2b95-400c-ad59-8c3291657998",
   "metadata": {},
   "outputs": [
    {
     "name": "stdin",
     "output_type": "stream",
     "text": [
      "enter number :  123\n"
     ]
    },
    {
     "name": "stdout",
     "output_type": "stream",
     "text": [
      "Not palindrome\n"
     ]
    }
   ],
   "source": [
    "# palindrome recursion\n",
    "num = int(input('enter number : '))\n",
    "\n",
    "def rev(num):\n",
    "    if num == 0:\n",
    "        return 0\n",
    "\n",
    "    return (num%10)* (10**(len(str(num))-1)) + rev(num//10)\n",
    "    \n",
    "if num == rev(num):\n",
    "    print('Palindrome')\n",
    "else:\n",
    "    print('Not palindrome')"
   ]
  },
  {
   "cell_type": "markdown",
   "id": "2c22f7b6-ed75-4521-b326-770849ad1f69",
   "metadata": {},
   "source": [
    "#### 123\n",
    "\n",
    "##### 3*(100) + rev(12) = 321\n",
    "##### 2*(10) + rev(1) = 21\n",
    "##### 1*1+ rev(0) = 1"
   ]
  },
  {
   "cell_type": "code",
   "execution_count": null,
   "id": "4016bdad-ee10-4271-acf5-e73fe1b14a21",
   "metadata": {},
   "outputs": [],
   "source": []
  }
 ],
 "metadata": {
  "kernelspec": {
   "display_name": "Python 3 (ipykernel)",
   "language": "python",
   "name": "python3"
  },
  "language_info": {
   "codemirror_mode": {
    "name": "ipython",
    "version": 3
   },
   "file_extension": ".py",
   "mimetype": "text/x-python",
   "name": "python",
   "nbconvert_exporter": "python",
   "pygments_lexer": "ipython3",
   "version": "3.13.3"
  }
 },
 "nbformat": 4,
 "nbformat_minor": 5
}
