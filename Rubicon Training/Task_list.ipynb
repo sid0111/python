{
 "cells": [
  {
   "cell_type": "markdown",
   "id": "090ca5cb-5c7a-43af-84fd-f21f0e7625fd",
   "metadata": {
    "jp-MarkdownHeadingCollapsed": true
   },
   "source": [
    "# Problem 1"
   ]
  },
  {
   "cell_type": "markdown",
   "id": "1125016a-c47b-4421-8b61-917923f3e00f",
   "metadata": {},
   "source": [
    "- [2, 5, 1, 9, 25, 11, 12]\n",
    "- even numbers shouls be at first and odd numbers at last\n",
    "- o/p [12, 2, 1, 5, 9, 11, 25]"
   ]
  },
  {
   "cell_type": "code",
   "execution_count": 14,
   "id": "2f914d16-914c-46ae-ab80-a33f7a741824",
   "metadata": {},
   "outputs": [
    {
     "data": {
      "text/plain": [
       "[12, 2, 1, 5, 9, 11, 25]"
      ]
     },
     "execution_count": 14,
     "metadata": {},
     "output_type": "execute_result"
    }
   ],
   "source": [
    "l1 = [2, 5, 1, 9, 25, 11, 12]\n",
    "\n",
    "even_list = []\n",
    "odd_list = []\n",
    "\n",
    "for i in l1:\n",
    "    if(i%2 == 0):\n",
    "        even_list.append(i)\n",
    "    else:\n",
    "        odd_list.append(i)\n",
    "\n",
    "even_list.sort(reverse=True)\n",
    "odd_list.sort()\n",
    "\n",
    "l2 = even_list+odd_list\n",
    "l2"
   ]
  },
  {
   "cell_type": "code",
   "execution_count": 15,
   "id": "dfce5bd8-d825-4409-b26a-6bba67010092",
   "metadata": {},
   "outputs": [
    {
     "data": {
      "text/plain": [
       "[1, 2, 5, 9, 11, 12, 25]"
      ]
     },
     "execution_count": 15,
     "metadata": {},
     "output_type": "execute_result"
    }
   ],
   "source": [
    "#approach 2\n",
    "\n",
    "result = []\n",
    "\n",
    "l1.sort()\n",
    "l1"
   ]
  },
  {
   "cell_type": "code",
   "execution_count": 6,
   "id": "1e365a8a-2beb-4426-8329-ed698484e145",
   "metadata": {},
   "outputs": [
    {
     "data": {
      "text/plain": [
       "[12, 2, 1, 5, 9, 11, 25]"
      ]
     },
     "execution_count": 6,
     "metadata": {},
     "output_type": "execute_result"
    }
   ],
   "source": [
    "for i in l1:\n",
    "    if i%2 == 0:\n",
    "        result.insert(0,i)\n",
    "    else:\n",
    "        result.append(i)\n",
    "\n",
    "result"
   ]
  },
  {
   "cell_type": "markdown",
   "id": "968ce0ce-5b5e-4a3e-9bf1-0dad08f98fff",
   "metadata": {
    "jp-MarkdownHeadingCollapsed": true
   },
   "source": [
    "# Problem 2"
   ]
  },
  {
   "cell_type": "markdown",
   "id": "f60a9615-64a9-4066-ad50-ec418168a458",
   "metadata": {},
   "source": [
    "- [0, 1, 0, 0, 2, 3]\n",
    "- o/p [1, 2, 3, 0, 0, 0]"
   ]
  },
  {
   "cell_type": "code",
   "execution_count": 12,
   "id": "341b8729-3cdf-4080-9db7-506a15e33099",
   "metadata": {},
   "outputs": [
    {
     "data": {
      "text/plain": [
       "[1, 2, 3, 0, 0, 0]"
      ]
     },
     "execution_count": 12,
     "metadata": {},
     "output_type": "execute_result"
    }
   ],
   "source": [
    "# my approach\n",
    "l3 = [0, 1, 0, 0, 2, 3]\n",
    "l4 = []\n",
    "l5 = []\n",
    "for i in range(len(l3)):\n",
    "    if (l3[i]==0):\n",
    "        l4.append(l3[i])\n",
    "    else:\n",
    "        l5.append(l3[i])\n",
    "\n",
    "l5+l4"
   ]
  },
  {
   "cell_type": "markdown",
   "id": "e8a48a3f-3fac-4c9e-a3b9-404f0c41d2af",
   "metadata": {},
   "source": [
    "#### Two pointer approach"
   ]
  },
  {
   "cell_type": "code",
   "execution_count": 13,
   "id": "92c49147-7759-4f6f-8478-cf2ba7630f0d",
   "metadata": {},
   "outputs": [
    {
     "name": "stdout",
     "output_type": "stream",
     "text": [
      "[1, 2, 3, 0, 0, 0]\n"
     ]
    }
   ],
   "source": [
    "#leet code approach\n",
    "pos = 0\n",
    "\n",
    "for i in range(len(l3)):\n",
    "    if(l3[i]!=0):\n",
    "        l3[i], l3[pos] = l3[pos], l3[i]\n",
    "        pos+=1\n",
    "\n",
    "print(l3)"
   ]
  },
  {
   "cell_type": "markdown",
   "id": "76d69e8b-015f-4777-978e-32b697324f33",
   "metadata": {},
   "source": [
    "# slicing"
   ]
  },
  {
   "cell_type": "code",
   "execution_count": 16,
   "id": "75af239f-bd7b-471d-b461-f132dcda18a4",
   "metadata": {},
   "outputs": [],
   "source": [
    "lis = [1, 2, 3, 4, 'sid', 'hello', 'to', 'class']"
   ]
  },
  {
   "cell_type": "code",
   "execution_count": 17,
   "id": "d3501ebb-0ea7-487e-9e5d-44b788d4bae0",
   "metadata": {},
   "outputs": [
    {
     "data": {
      "text/plain": [
       "[3, 4, 'sid', 'hello', 'to', 'class']"
      ]
     },
     "execution_count": 17,
     "metadata": {},
     "output_type": "execute_result"
    }
   ],
   "source": [
    "lis[2:]"
   ]
  },
  {
   "cell_type": "code",
   "execution_count": 18,
   "id": "2d238355-4746-4fe8-8fba-8bef1bba4263",
   "metadata": {},
   "outputs": [
    {
     "data": {
      "text/plain": [
       "[3, 'sid', 'to']"
      ]
     },
     "execution_count": 18,
     "metadata": {},
     "output_type": "execute_result"
    }
   ],
   "source": [
    "lis[2::2]"
   ]
  },
  {
   "cell_type": "code",
   "execution_count": 22,
   "id": "0ba0bcc4-73bb-4b5c-8807-7ce895edf1b0",
   "metadata": {},
   "outputs": [
    {
     "data": {
      "text/plain": [
       "['to', 'hello']"
      ]
     },
     "execution_count": 22,
     "metadata": {},
     "output_type": "execute_result"
    }
   ],
   "source": [
    "lis[-2:-4:-1]"
   ]
  },
  {
   "cell_type": "code",
   "execution_count": null,
   "id": "249bafc1-3545-4c0c-88f3-adb0cfdb5e3e",
   "metadata": {},
   "outputs": [],
   "source": []
  }
 ],
 "metadata": {
  "kernelspec": {
   "display_name": "Python 3 (ipykernel)",
   "language": "python",
   "name": "python3"
  },
  "language_info": {
   "codemirror_mode": {
    "name": "ipython",
    "version": 3
   },
   "file_extension": ".py",
   "mimetype": "text/x-python",
   "name": "python",
   "nbconvert_exporter": "python",
   "pygments_lexer": "ipython3",
   "version": "3.13.3"
  }
 },
 "nbformat": 4,
 "nbformat_minor": 5
}
