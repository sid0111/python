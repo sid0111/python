{
 "cells": [
  {
   "cell_type": "code",
   "execution_count": 1,
   "id": "0df5af48-f028-41b5-ba56-3c3d6bf51d1e",
   "metadata": {},
   "outputs": [],
   "source": [
    "# -100 <= n <= 10,000"
   ]
  },
  {
   "cell_type": "code",
   "execution_count": 3,
   "id": "9b6edf30-e827-46da-8709-6b88332a5fd7",
   "metadata": {},
   "outputs": [
    {
     "name": "stdout",
     "output_type": "stream",
     "text": [
      "45 min\n"
     ]
    }
   ],
   "source": [
    "#approach 1\n",
    "\n",
    "wght = 5000\n",
    "\n",
    "if wght < 0:\n",
    "    print(\"Invalid Input\")\n",
    "elif wght > 0 and wght <= 2000:\n",
    "    print(\"25 min\")\n",
    "elif wght > 2000 and wght <=4000:\n",
    "    print(\"35 min\")\n",
    "elif wght > 4000 and wght <=7000:\n",
    "    print(\"45 min\")\n",
    "else:\n",
    "    print(\"Overload\")"
   ]
  },
  {
   "cell_type": "code",
   "execution_count": 5,
   "id": "fcfea164-8e05-479d-bc19-ffdc4ebfcebb",
   "metadata": {},
   "outputs": [
    {
     "name": "stdin",
     "output_type": "stream",
     "text": [
      "Enter cloth weight -2000\n"
     ]
    },
    {
     "name": "stdout",
     "output_type": "stream",
     "text": [
      "Invalid Input\n"
     ]
    }
   ],
   "source": [
    "#approach 2\n",
    "\n",
    "wght = int(input(\"Enter cloth weight\"))\n",
    "\n",
    "if wght > 0:\n",
    "    if wght > 0 and wght <= 2000:\n",
    "        print(\"Estimate time : 25min\")\n",
    "    elif wght > 2000 and wght <= 4000:\n",
    "        print(\"Estimate time : 35min\")\n",
    "    elif wght > 4000 and wght <= 7000:\n",
    "        print(\"Estimate time : 45min\")\n",
    "    else:\n",
    "        print(\"Machine Overloaded\")\n",
    "else:\n",
    "    print(\"Invalid Input\")"
   ]
  },
  {
   "cell_type": "code",
   "execution_count": null,
   "id": "273b721e-2f14-4174-b64b-560934f4afd8",
   "metadata": {},
   "outputs": [],
   "source": []
  }
 ],
 "metadata": {
  "kernelspec": {
   "display_name": "Python 3 (ipykernel)",
   "language": "python",
   "name": "python3"
  },
  "language_info": {
   "codemirror_mode": {
    "name": "ipython",
    "version": 3
   },
   "file_extension": ".py",
   "mimetype": "text/x-python",
   "name": "python",
   "nbconvert_exporter": "python",
   "pygments_lexer": "ipython3",
   "version": "3.13.3"
  }
 },
 "nbformat": 4,
 "nbformat_minor": 5
}
