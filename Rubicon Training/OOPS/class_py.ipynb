{
 "cells": [
  {
   "cell_type": "markdown",
   "id": "040de040-0d92-43f5-b3c9-4bdf108e8478",
   "metadata": {},
   "source": [
    "# Class nd Object"
   ]
  },
  {
   "cell_type": "code",
   "execution_count": 16,
   "id": "dae63a74-f245-4caa-8891-2deb38d74569",
   "metadata": {},
   "outputs": [],
   "source": [
    "class company:\n",
    "    cmp_name = 'Google'\n",
    "\n",
    "    def __init__(self):\n",
    "        print('welcome in constructor')\n",
    "        \n",
    "    def display(self):\n",
    "        print(self.cmp_name)"
   ]
  },
  {
   "cell_type": "code",
   "execution_count": 17,
   "id": "ee779e8d-4c57-4618-9074-a9ce1ff0e836",
   "metadata": {},
   "outputs": [
    {
     "name": "stdout",
     "output_type": "stream",
     "text": [
      "welcome in constructor\n",
      "Google\n"
     ]
    }
   ],
   "source": [
    "obj = company()\n",
    "obj.display()"
   ]
  },
  {
   "cell_type": "code",
   "execution_count": 21,
   "id": "e9998d6d-2298-40c7-9277-5977f0ad1d27",
   "metadata": {},
   "outputs": [
    {
     "name": "stdout",
     "output_type": "stream",
     "text": [
      "sam\n",
      "45\n",
      "sid\n",
      "3\n"
     ]
    }
   ],
   "source": [
    "class student:\n",
    "    def __init__(self, std_name, std_roll): #assigning value\n",
    "        self.std_name = std_name\n",
    "        self.std_roll = std_roll\n",
    "\n",
    "    def dis(self): # display values\n",
    "        print(self.std_name)\n",
    "        print(self.std_roll)\n",
    "\n",
    "std1 = student('sid', 3) #call constructor\n",
    "\n",
    "std2 = student('sam',45)\n",
    "\n",
    "std2.dis()\n",
    "std1.dis()"
   ]
  },
  {
   "cell_type": "markdown",
   "id": "f3dad239-f997-438f-b773-f5f5df3a8e41",
   "metadata": {},
   "source": [
    "### Constructors\n",
    "- default constaructor\n",
    "- parametrise constructor\n",
    "- copy constructor(not directlt)"
   ]
  },
  {
   "cell_type": "markdown",
   "id": "b8fcfd6a-1547-42a4-9eb1-cb40cf117254",
   "metadata": {},
   "source": [
    "#### we can also use another name instead of self\n",
    "#### but for convience we write self "
   ]
  },
  {
   "cell_type": "code",
   "execution_count": 29,
   "id": "7a6263dc-c67c-40a8-a090-4a37350976ee",
   "metadata": {},
   "outputs": [
    {
     "name": "stdout",
     "output_type": "stream",
     "text": [
      "sam\n",
      "45\n",
      "MIS\n",
      "sid\n",
      "3\n",
      "MIS\n"
     ]
    }
   ],
   "source": [
    "class student:\n",
    "    school_name = \"MIS\" #class/static {share single copy un entire program}\n",
    "    def __init__(sid, std_name, std_roll): #assigning value\n",
    "        sid.std_name = std_name\n",
    "        sid.std_roll = std_roll\n",
    "\n",
    "    def dis(self): # display values\n",
    "        print(self.std_name)\n",
    "        print(self.std_roll)\n",
    "        print(student.school_name)\n",
    "\n",
    "std1 = student('sid', 3) #call constructor\n",
    "\n",
    "std2 = student('sam',45)\n",
    "\n",
    "std2.dis()\n",
    "std1.dis()"
   ]
  },
  {
   "cell_type": "markdown",
   "id": "0d595a75-124e-4b28-a6a6-4f673e280555",
   "metadata": {},
   "source": [
    "### class/staic varibale can be access using class name or object(self keyword)"
   ]
  },
  {
   "cell_type": "markdown",
   "id": "f3ca7f98-2873-4b12-a8a0-1ef557c6f189",
   "metadata": {},
   "source": [
    "# class method"
   ]
  },
  {
   "cell_type": "code",
   "execution_count": 36,
   "id": "89035bb0-4f9f-43d8-a92c-ad58a3fc1389",
   "metadata": {},
   "outputs": [
    {
     "name": "stdout",
     "output_type": "stream",
     "text": [
      "sid\n",
      "icici\n",
      "icici\n"
     ]
    }
   ],
   "source": [
    "class bank:\n",
    "    b_name = 'icici'\n",
    "\n",
    "    def __init__(self,c_name):\n",
    "        self.c_name = c_name\n",
    "\n",
    "    def dis(self):\n",
    "        print(self.c_name)\n",
    "        print(self.b_name)\n",
    "\n",
    "    @classmethod\n",
    "    def dis_bank(cls):  #class method\n",
    "        print(cls.b_name)\n",
    "    \n",
    "c1 = bank('sid')\n",
    "c1.dis()\n",
    "c1.dis_bank()"
   ]
  },
  {
   "cell_type": "markdown",
   "id": "4da123dd-4bbe-47ad-b73e-03db4d690fc7",
   "metadata": {},
   "source": [
    "### we cannot access instance variable in class method"
   ]
  },
  {
   "cell_type": "code",
   "execution_count": 37,
   "id": "f91fe567-1448-4a00-bb20-d90a6daaf7b6",
   "metadata": {},
   "outputs": [
    {
     "name": "stdout",
     "output_type": "stream",
     "text": [
      "sid\n",
      "icici\n"
     ]
    },
    {
     "ename": "AttributeError",
     "evalue": "type object 'bank' has no attribute 'c_name'",
     "output_type": "error",
     "traceback": [
      "\u001b[31m---------------------------------------------------------------------------\u001b[39m",
      "\u001b[31mAttributeError\u001b[39m                            Traceback (most recent call last)",
      "\u001b[36mCell\u001b[39m\u001b[36m \u001b[39m\u001b[32mIn[37]\u001b[39m\u001b[32m, line 18\u001b[39m\n\u001b[32m     16\u001b[39m c1 = bank(\u001b[33m'\u001b[39m\u001b[33msid\u001b[39m\u001b[33m'\u001b[39m)\n\u001b[32m     17\u001b[39m c1.dis()\n\u001b[32m---> \u001b[39m\u001b[32m18\u001b[39m \u001b[43mc1\u001b[49m\u001b[43m.\u001b[49m\u001b[43mdis_bank\u001b[49m\u001b[43m(\u001b[49m\u001b[43m)\u001b[49m\n",
      "\u001b[36mCell\u001b[39m\u001b[36m \u001b[39m\u001b[32mIn[37]\u001b[39m\u001b[32m, line 13\u001b[39m, in \u001b[36mbank.dis_bank\u001b[39m\u001b[34m(cls)\u001b[39m\n\u001b[32m     11\u001b[39m \u001b[38;5;129m@classmethod\u001b[39m\n\u001b[32m     12\u001b[39m \u001b[38;5;28;01mdef\u001b[39;00m\u001b[38;5;250m \u001b[39m\u001b[34mdis_bank\u001b[39m(\u001b[38;5;28mcls\u001b[39m):  \u001b[38;5;66;03m#class method\u001b[39;00m\n\u001b[32m---> \u001b[39m\u001b[32m13\u001b[39m     \u001b[38;5;28mprint\u001b[39m(\u001b[38;5;28;43mcls\u001b[39;49m\u001b[43m.\u001b[49m\u001b[43mc_name\u001b[49m)\n\u001b[32m     14\u001b[39m     \u001b[38;5;28mprint\u001b[39m(\u001b[38;5;28mcls\u001b[39m.b_name)\n",
      "\u001b[31mAttributeError\u001b[39m: type object 'bank' has no attribute 'c_name'"
     ]
    }
   ],
   "source": [
    "class bank:\n",
    "    b_name = 'icici'\n",
    "\n",
    "    def __init__(self,c_name):\n",
    "        self.c_name = c_name\n",
    "\n",
    "    def dis(self):\n",
    "        print(self.c_name)\n",
    "        print(self.b_name)\n",
    "\n",
    "    @classmethod\n",
    "    def dis_bank(cls):  #class method\n",
    "        print(cls.c_name)\n",
    "        print(cls.b_name)\n",
    "    \n",
    "c1 = bank('sid')\n",
    "c1.dis()\n",
    "c1.dis_bank()"
   ]
  },
  {
   "cell_type": "markdown",
   "id": "1f00bd55-aca6-433d-8362-1e23ad91e368",
   "metadata": {},
   "source": [
    "## static method"
   ]
  },
  {
   "cell_type": "code",
   "execution_count": 44,
   "id": "b46e75a9-33a2-437c-866b-5bf5f373d4f0",
   "metadata": {},
   "outputs": [
    {
     "name": "stdout",
     "output_type": "stream",
     "text": [
      "sid\n",
      "icici\n",
      "icici\n"
     ]
    }
   ],
   "source": [
    "class bank:\n",
    "    b_name = 'icici'\n",
    "\n",
    "    def __init__(self,c_name):\n",
    "        self.c_name = c_name\n",
    "\n",
    "    def dis(self):\n",
    "        print(self.c_name)\n",
    "        print(self.b_name)\n",
    "\n",
    "    @staticmethod\n",
    "    def view():\n",
    "        print(bank.b_name) #cannot access any variable using instance refrence\n",
    "        \n",
    "c1 = bank('sid')\n",
    "c1.dis()\n",
    "c1.view() # or bank.view()"
   ]
  },
  {
   "cell_type": "code",
   "execution_count": null,
   "id": "7a7cd0c9-a298-4a82-af23-b0609d34d371",
   "metadata": {},
   "outputs": [],
   "source": []
  }
 ],
 "metadata": {
  "kernelspec": {
   "display_name": "Python 3 (ipykernel)",
   "language": "python",
   "name": "python3"
  },
  "language_info": {
   "codemirror_mode": {
    "name": "ipython",
    "version": 3
   },
   "file_extension": ".py",
   "mimetype": "text/x-python",
   "name": "python",
   "nbconvert_exporter": "python",
   "pygments_lexer": "ipython3",
   "version": "3.13.3"
  }
 },
 "nbformat": 4,
 "nbformat_minor": 5
}
