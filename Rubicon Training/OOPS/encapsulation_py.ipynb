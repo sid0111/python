{
 "cells": [
  {
   "cell_type": "markdown",
   "id": "05d1ce44-71f9-4f0e-aab1-11a9408651ee",
   "metadata": {},
   "source": [
    "# access specifier\n",
    "\n",
    "- public : var **{access throught out program}**\n",
    "- protected : _var **{not accessible outside the class directly but we can do, and outside package}**\n",
    "- private : __var **{only acessible inside the class}**"
   ]
  },
  {
   "cell_type": "markdown",
   "id": "22e97713-c6a8-465a-8747-ed7d6c140786",
   "metadata": {},
   "source": [
    "# VARIABLE"
   ]
  },
  {
   "cell_type": "code",
   "execution_count": 16,
   "id": "6181e3e6-ff92-4aac-9778-40f065ed6b4d",
   "metadata": {},
   "outputs": [],
   "source": [
    "class bank:\n",
    "\n",
    "    def __init__(self,b_name, b_addr, b_balance):\n",
    "        self.b_name = b_name\n",
    "        self._b_addr = b_addr\n",
    "        self.__b_balance = b_balance\n",
    "\n",
    "    def display(self):\n",
    "        print(self.__b_balance)\n",
    "\n",
    "b1 = bank('sid', 'pune', 1234567890)"
   ]
  },
  {
   "cell_type": "code",
   "execution_count": 17,
   "id": "98660e77-0840-40bf-92e9-2536a5740d2f",
   "metadata": {},
   "outputs": [
    {
     "data": {
      "text/plain": [
       "'sid'"
      ]
     },
     "execution_count": 17,
     "metadata": {},
     "output_type": "execute_result"
    }
   ],
   "source": [
    "b1.b_name"
   ]
  },
  {
   "cell_type": "code",
   "execution_count": 18,
   "id": "a12d9768-e272-4a54-9b1f-498e202b72ff",
   "metadata": {},
   "outputs": [
    {
     "data": {
      "text/plain": [
       "'pune'"
      ]
     },
     "execution_count": 18,
     "metadata": {},
     "output_type": "execute_result"
    }
   ],
   "source": [
    "b1._b_addr"
   ]
  },
  {
   "cell_type": "code",
   "execution_count": 19,
   "id": "1cb86c84-16d9-4348-8cfa-23a284bdd693",
   "metadata": {},
   "outputs": [
    {
     "ename": "AttributeError",
     "evalue": "'bank' object has no attribute '__b_balance'",
     "output_type": "error",
     "traceback": [
      "\u001b[31m---------------------------------------------------------------------------\u001b[39m",
      "\u001b[31mAttributeError\u001b[39m                            Traceback (most recent call last)",
      "\u001b[36mCell\u001b[39m\u001b[36m \u001b[39m\u001b[32mIn[19]\u001b[39m\u001b[32m, line 1\u001b[39m\n\u001b[32m----> \u001b[39m\u001b[32m1\u001b[39m \u001b[43mb1\u001b[49m\u001b[43m.\u001b[49m\u001b[43m__b_balance\u001b[49m\n",
      "\u001b[31mAttributeError\u001b[39m: 'bank' object has no attribute '__b_balance'"
     ]
    }
   ],
   "source": [
    "b1.__b_balance"
   ]
  },
  {
   "cell_type": "markdown",
   "id": "5252a8d4-130a-4ad0-a26d-c97121094126",
   "metadata": {},
   "source": [
    "- but we can also aceess private varibale using public method"
   ]
  },
  {
   "cell_type": "code",
   "execution_count": 20,
   "id": "84783f0f-86a7-4484-81af-020b03160c5d",
   "metadata": {},
   "outputs": [
    {
     "name": "stdout",
     "output_type": "stream",
     "text": [
      "1234567890\n"
     ]
    }
   ],
   "source": [
    "b1.display()"
   ]
  },
  {
   "cell_type": "markdown",
   "id": "135672ea-bef4-49fa-a862-cb70e91eaf59",
   "metadata": {},
   "source": [
    "# METHOD"
   ]
  },
  {
   "cell_type": "code",
   "execution_count": 24,
   "id": "eb7324df-8b80-4f57-94af-59dbad981458",
   "metadata": {},
   "outputs": [],
   "source": [
    "class bank:\n",
    "\n",
    "    def __init__(self,b_name, b_addr, b_balance):\n",
    "        self.b_name = b_name\n",
    "        self._b_addr = b_addr\n",
    "        self.__b_balance = b_balance\n",
    "\n",
    "    def _display(self):\n",
    "        print(self.__b_balance)\n",
    "\n",
    "    def __dis(self):\n",
    "        print(self.__b_balance)\n",
    "\n",
    "b1 = bank('sid', 'pune', 1234567890)"
   ]
  },
  {
   "cell_type": "code",
   "execution_count": 25,
   "id": "b240508f-47b3-4747-9dc7-72c2dfb0682e",
   "metadata": {},
   "outputs": [
    {
     "name": "stdout",
     "output_type": "stream",
     "text": [
      "1234567890\n"
     ]
    }
   ],
   "source": [
    "b1._display()"
   ]
  },
  {
   "cell_type": "code",
   "execution_count": 26,
   "id": "bd946578-e55b-4508-a5a0-da0291f2de1c",
   "metadata": {},
   "outputs": [
    {
     "ename": "AttributeError",
     "evalue": "'bank' object has no attribute 'dis'",
     "output_type": "error",
     "traceback": [
      "\u001b[31m---------------------------------------------------------------------------\u001b[39m",
      "\u001b[31mAttributeError\u001b[39m                            Traceback (most recent call last)",
      "\u001b[36mCell\u001b[39m\u001b[36m \u001b[39m\u001b[32mIn[26]\u001b[39m\u001b[32m, line 1\u001b[39m\n\u001b[32m----> \u001b[39m\u001b[32m1\u001b[39m \u001b[43mb1\u001b[49m\u001b[43m.\u001b[49m\u001b[43mdis\u001b[49m()\n",
      "\u001b[31mAttributeError\u001b[39m: 'bank' object has no attribute 'dis'"
     ]
    }
   ],
   "source": [
    "b1.dis()"
   ]
  },
  {
   "cell_type": "markdown",
   "id": "60b0984b-5da0-490b-af11-0e4b533e5514",
   "metadata": {},
   "source": [
    "# GETTER AND SETTER\n",
    "\n",
    "- private variable can be access using getter(public method)"
   ]
  },
  {
   "cell_type": "code",
   "execution_count": 28,
   "id": "371facbb-718a-4603-bc02-a227a8c6e86b",
   "metadata": {},
   "outputs": [
    {
     "name": "stdout",
     "output_type": "stream",
     "text": [
      "Balance : 1234567890\n"
     ]
    }
   ],
   "source": [
    "class bank:\n",
    "\n",
    "    def __init__(self,b_name, b_addr, b_balance):\n",
    "        self.b_name = b_name\n",
    "        self._b_addr = b_addr\n",
    "        self.__b_balance = b_balance\n",
    "\n",
    "    def display(self):\n",
    "        print(f\"Name : {b_name}, Address : {_b_addr}\")\n",
    "\n",
    "    def get_balance(self):\n",
    "       print(f\"Balance : {self.__b_balance}\") \n",
    "\n",
    "    def set_balance(self, b):\n",
    "        self.__b_balance = b\n",
    "        \n",
    "b1 = bank('sid', 'pune', 1234567890)\n",
    "\n",
    "b1.get_balance()"
   ]
  },
  {
   "cell_type": "code",
   "execution_count": 29,
   "id": "2b3f869a-265c-446b-a5df-83b16dc883a6",
   "metadata": {},
   "outputs": [],
   "source": [
    "b1.set_balance(100)"
   ]
  },
  {
   "cell_type": "code",
   "execution_count": 30,
   "id": "688d93fa-fe69-46a5-997b-6f683730b7cd",
   "metadata": {},
   "outputs": [
    {
     "name": "stdout",
     "output_type": "stream",
     "text": [
      "Balance : 100\n"
     ]
    }
   ],
   "source": [
    "b1.get_balance()"
   ]
  },
  {
   "cell_type": "code",
   "execution_count": null,
   "id": "de5ca9c0-2d8b-4ddd-8b99-551a96e7ddf3",
   "metadata": {},
   "outputs": [],
   "source": []
  }
 ],
 "metadata": {
  "kernelspec": {
   "display_name": "Python 3 (ipykernel)",
   "language": "python",
   "name": "python3"
  },
  "language_info": {
   "codemirror_mode": {
    "name": "ipython",
    "version": 3
   },
   "file_extension": ".py",
   "mimetype": "text/x-python",
   "name": "python",
   "nbconvert_exporter": "python",
   "pygments_lexer": "ipython3",
   "version": "3.13.3"
  }
 },
 "nbformat": 4,
 "nbformat_minor": 5
}
