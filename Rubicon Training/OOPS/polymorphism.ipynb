{
 "cells": [
  {
   "cell_type": "markdown",
   "id": "fdec8acb-7c23-43de-989f-00bc02932572",
   "metadata": {},
   "source": [
    "## POLYMORPHISM\n",
    "- compile time\n",
    "- run time"
   ]
  },
  {
   "cell_type": "code",
   "execution_count": 1,
   "id": "ba2ce180-07d4-4c46-bdf3-dab21c426086",
   "metadata": {},
   "outputs": [
    {
     "data": {
      "text/plain": [
       "[1, 2, 3, 1, 2, 3]"
      ]
     },
     "execution_count": 1,
     "metadata": {},
     "output_type": "execute_result"
    }
   ],
   "source": [
    "[1, 2, 3] + [1, 2, 3]"
   ]
  },
  {
   "cell_type": "code",
   "execution_count": 2,
   "id": "ca594175-4485-4788-b59e-e1cf233000b8",
   "metadata": {},
   "outputs": [
    {
     "data": {
      "text/plain": [
       "3"
      ]
     },
     "execution_count": 2,
     "metadata": {},
     "output_type": "execute_result"
    }
   ],
   "source": [
    "1 + 2"
   ]
  },
  {
   "cell_type": "code",
   "execution_count": 4,
   "id": "c43f4f27-c622-4aa3-8ff0-058909a92477",
   "metadata": {},
   "outputs": [
    {
     "data": {
      "text/plain": [
       "'naik siddhesh'"
      ]
     },
     "execution_count": 4,
     "metadata": {},
     "output_type": "execute_result"
    }
   ],
   "source": [
    "'naik' + ' siddhesh'"
   ]
  },
  {
   "cell_type": "code",
   "execution_count": 29,
   "id": "ed387148-0848-48b6-97c8-36746b0e35ad",
   "metadata": {},
   "outputs": [
    {
     "ename": "TypeError",
     "evalue": "sum_pqr.add() missing 1 required positional argument: 'c'",
     "output_type": "error",
     "traceback": [
      "\u001b[31m---------------------------------------------------------------------------\u001b[39m",
      "\u001b[31mTypeError\u001b[39m                                 Traceback (most recent call last)",
      "\u001b[36mCell\u001b[39m\u001b[36m \u001b[39m\u001b[32mIn[29]\u001b[39m\u001b[32m, line 13\u001b[39m\n\u001b[32m     10\u001b[39m         \u001b[38;5;28;01mreturn\u001b[39;00m a + b +c\n\u001b[32m     12\u001b[39m c1 = sum_pqr()\n\u001b[32m---> \u001b[39m\u001b[32m13\u001b[39m \u001b[43mc1\u001b[49m\u001b[43m.\u001b[49m\u001b[43madd\u001b[49m\u001b[43m(\u001b[49m\u001b[32;43m23\u001b[39;49m\u001b[43m,\u001b[49m\u001b[43m \u001b[49m\u001b[32;43m23\u001b[39;49m\u001b[43m)\u001b[49m\n",
      "\u001b[31mTypeError\u001b[39m: sum_pqr.add() missing 1 required positional argument: 'c'"
     ]
    }
   ],
   "source": [
    "#by default it will override\n",
    "class sum_abc:\n",
    "\n",
    "    def add(self, a, b):\n",
    "        return a + b\n",
    "        \n",
    "\n",
    "class sum_pqr(sum_abc):\n",
    "    def add(self, a, b, c):\n",
    "        return a + b +c\n",
    "\n",
    "c1 = sum_pqr()\n",
    "c1.add(23, 23)"
   ]
  },
  {
   "cell_type": "markdown",
   "id": "0c7c0990-3d4c-4831-82bd-fb0376e282b2",
   "metadata": {},
   "source": [
    "#### Method overloading using variable argument passing\n",
    "- instead of this we can use deafault arguement or vaiable argument passing"
   ]
  },
  {
   "cell_type": "code",
   "execution_count": 20,
   "id": "c876493d-1020-41a6-bf2d-0b3443d25589",
   "metadata": {},
   "outputs": [],
   "source": [
    "class sum_abc:\n",
    "\n",
    "    def add(self, a=0, b=0, c=0):\n",
    "        return a + b +c\n",
    "\n",
    "    def add2(self, *args):\n",
    "        return sum(*args)\n",
    "        \n",
    "c1 = sum_abc()\n"
   ]
  },
  {
   "cell_type": "code",
   "execution_count": 21,
   "id": "c8c0681b-ca8c-425a-9322-f58a963177f4",
   "metadata": {},
   "outputs": [
    {
     "data": {
      "text/plain": [
       "46"
      ]
     },
     "execution_count": 21,
     "metadata": {},
     "output_type": "execute_result"
    }
   ],
   "source": [
    "c1.add(23, 23)"
   ]
  },
  {
   "cell_type": "code",
   "execution_count": 22,
   "id": "ff14dbda-44c1-47d1-84f4-f48d8afde687",
   "metadata": {},
   "outputs": [
    {
     "data": {
      "text/plain": [
       "10"
      ]
     },
     "execution_count": 22,
     "metadata": {},
     "output_type": "execute_result"
    }
   ],
   "source": [
    "c1.add(10)"
   ]
  },
  {
   "cell_type": "code",
   "execution_count": 23,
   "id": "be682e91-5c37-4625-8f39-6b8c649dbb92",
   "metadata": {},
   "outputs": [
    {
     "data": {
      "text/plain": [
       "60"
      ]
     },
     "execution_count": 23,
     "metadata": {},
     "output_type": "execute_result"
    }
   ],
   "source": [
    "c1.add(10,20, 30)"
   ]
  },
  {
   "cell_type": "code",
   "execution_count": 26,
   "id": "0d702c3a-e68b-4a15-89a5-1358405bf168",
   "metadata": {},
   "outputs": [
    {
     "data": {
      "text/plain": [
       "1"
      ]
     },
     "execution_count": 26,
     "metadata": {},
     "output_type": "execute_result"
    }
   ],
   "source": [
    "c1.add2((1,)) #must be pass as tuple"
   ]
  },
  {
   "cell_type": "markdown",
   "id": "56562e23-8a72-4c79-b64b-df9b0b9f300e",
   "metadata": {},
   "source": [
    "# method overloading \n",
    "**runtime polymorphism**"
   ]
  },
  {
   "cell_type": "code",
   "execution_count": 36,
   "id": "5bf4f932-b5a5-4958-9e15-74497cafd4cf",
   "metadata": {},
   "outputs": [
    {
     "data": {
      "text/plain": [
       "0"
      ]
     },
     "execution_count": 36,
     "metadata": {},
     "output_type": "execute_result"
    }
   ],
   "source": [
    "#by default it will override\n",
    "class sum_abc:\n",
    "\n",
    "    def add(self, a, b):\n",
    "        return a + b\n",
    "        \n",
    "\n",
    "class sub_pqr(sum_abc):\n",
    "    def add(self, a, b):\n",
    "        #return super().add(a, b)\n",
    "        return a - b\n",
    "\n",
    "c1 = sub_pqr()\n",
    "c1.add(23, 23)"
   ]
  },
  {
   "cell_type": "markdown",
   "id": "c7ce8add-db42-4f96-ac96-1653a8d54f55",
   "metadata": {},
   "source": [
    " - if we want to access super class method then we need to create super class"
   ]
  },
  {
   "cell_type": "code",
   "execution_count": 39,
   "id": "ccc5a5ad-92bd-49b6-a198-b53e3b0b4bf6",
   "metadata": {},
   "outputs": [
    {
     "data": {
      "text/plain": [
       "0"
      ]
     },
     "execution_count": 39,
     "metadata": {},
     "output_type": "execute_result"
    }
   ],
   "source": [
    "class sum_abc:\n",
    "\n",
    "    def add(self, a, b):\n",
    "        return a + b\n",
    "        \n",
    "\n",
    "class sub_pqr(sum_abc):\n",
    "    def add(self, a, b):\n",
    "        #return super().add(a, b)\n",
    "        return a - b\n",
    "\n",
    "c1 = sub_pqr()\n",
    "c1.add(23, 23)"
   ]
  },
  {
   "cell_type": "code",
   "execution_count": 40,
   "id": "e169bcd3-399f-4e9a-afac-8c79a7d462bc",
   "metadata": {},
   "outputs": [
    {
     "data": {
      "text/plain": [
       "46"
      ]
     },
     "execution_count": 40,
     "metadata": {},
     "output_type": "execute_result"
    }
   ],
   "source": [
    "c2 = sum_abc()\n",
    "c2.add(23,23)"
   ]
  },
  {
   "cell_type": "markdown",
   "id": "3ac99dfd-7e92-4465-9e2e-46dbf8e18ac9",
   "metadata": {},
   "source": [
    "#### duck typing\n",
    "- if method behaves like dog and wal like a dog when dog mwthod is called this is duck typing"
   ]
  },
  {
   "cell_type": "code",
   "execution_count": 49,
   "id": "d9a07930-cfae-4c10-98be-942397377ddc",
   "metadata": {},
   "outputs": [
    {
     "name": "stdout",
     "output_type": "stream",
     "text": [
      "bark\n"
     ]
    }
   ],
   "source": [
    "class dog:\n",
    "    def speak(self):\n",
    "        print('bark')\n",
    "\n",
    "class cat:\n",
    "    def speak(self):\n",
    "        print('meow')\n",
    "\n",
    "def method_dis(obj):\n",
    "    obj.speak()\n",
    "\n",
    "d = dog()\n",
    "c = cat()\n",
    "\n",
    "method_dis(d)"
   ]
  },
  {
   "cell_type": "code",
   "execution_count": null,
   "id": "a43b6bb9-b7d0-4de3-a1cd-019f681ee3d1",
   "metadata": {},
   "outputs": [],
   "source": [
    "\n"
   ]
  }
 ],
 "metadata": {
  "kernelspec": {
   "display_name": "Python 3 (ipykernel)",
   "language": "python",
   "name": "python3"
  },
  "language_info": {
   "codemirror_mode": {
    "name": "ipython",
    "version": 3
   },
   "file_extension": ".py",
   "mimetype": "text/x-python",
   "name": "python",
   "nbconvert_exporter": "python",
   "pygments_lexer": "ipython3",
   "version": "3.13.3"
  }
 },
 "nbformat": 4,
 "nbformat_minor": 5
}
