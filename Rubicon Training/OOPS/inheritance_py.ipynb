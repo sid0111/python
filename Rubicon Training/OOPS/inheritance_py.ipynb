{
 "cells": [
  {
   "cell_type": "markdown",
   "id": "6249896c-6d1a-4b53-878a-8b8034790994",
   "metadata": {},
   "source": [
    "# single level inheritance"
   ]
  },
  {
   "cell_type": "code",
   "execution_count": 3,
   "id": "5758e66b-7607-4829-8ed4-91163eff0ea3",
   "metadata": {},
   "outputs": [
    {
     "name": "stdout",
     "output_type": "stream",
     "text": [
      "booooo\n"
     ]
    }
   ],
   "source": [
    "class animal:\n",
    "    def sound(self):\n",
    "        print('animal sound')\n",
    "\n",
    "class dog(animal):\n",
    "    def sound(self):\n",
    "        print(\"booooo\")\n",
    "\n",
    "    def num_legs(self):\n",
    "        print('4 legs')\n",
    "\n",
    "d1 = dog()\n",
    "d1.sound()"
   ]
  },
  {
   "cell_type": "code",
   "execution_count": 5,
   "id": "f178e6f5-02e2-4389-9bb1-03cbc57d750f",
   "metadata": {},
   "outputs": [
    {
     "name": "stdout",
     "output_type": "stream",
     "text": [
      "4 legs\n"
     ]
    }
   ],
   "source": [
    "d1.num_legs()"
   ]
  },
  {
   "cell_type": "code",
   "execution_count": 12,
   "id": "86ae9ad9-ed4a-47fd-aba2-172e302e4823",
   "metadata": {},
   "outputs": [],
   "source": [
    "class area:\n",
    "    def __init__(self, rad):\n",
    "        self.rad = rad\n",
    "\n",
    "class circle(area):\n",
    "    pi = 3.14\n",
    "    def cir_area(self):\n",
    "         return self.pi*self.rad*self.rad\n",
    "\n",
    "c1 = circle(4)"
   ]
  },
  {
   "cell_type": "code",
   "execution_count": 13,
   "id": "0d22b725-ba49-4f62-8f75-1878297ac061",
   "metadata": {},
   "outputs": [
    {
     "data": {
      "text/plain": [
       "50.24"
      ]
     },
     "execution_count": 13,
     "metadata": {},
     "output_type": "execute_result"
    }
   ],
   "source": [
    "c1.cir_area()"
   ]
  },
  {
   "cell_type": "markdown",
   "id": "fa6d59a0-21c1-4b13-bd4e-a300eae1b60b",
   "metadata": {},
   "source": [
    "- method resolution order"
   ]
  },
  {
   "cell_type": "code",
   "execution_count": 29,
   "id": "3551cf94-c9a6-4b8c-bf9c-b3c31f5507f6",
   "metadata": {},
   "outputs": [],
   "source": [
    "class area:\n",
    "    def __init__(self, rad):\n",
    "        self.rad = rad\n",
    "\n",
    "class circle(area):\n",
    "    def __init__(self, rad, pi):\n",
    "        self.pi = pi\n",
    "        super().__init__(rad) ##pass value to the parent class\n",
    "        \n",
    "    def cir_area(self):\n",
    "         return self.pi*self.rad*self.rad\n",
    "\n",
    "c1 = circle(4, 3.14)"
   ]
  },
  {
   "cell_type": "code",
   "execution_count": 30,
   "id": "265cf53f-3833-4b97-a23d-80bf659d5354",
   "metadata": {},
   "outputs": [
    {
     "data": {
      "text/plain": [
       "50.24"
      ]
     },
     "execution_count": 30,
     "metadata": {},
     "output_type": "execute_result"
    }
   ],
   "source": [
    "c1.cir_area()"
   ]
  },
  {
   "cell_type": "markdown",
   "id": "00a61490-811f-43c1-9b9d-bdae3df08cc6",
   "metadata": {},
   "source": [
    "# Multilevel Inheritace"
   ]
  },
  {
   "cell_type": "code",
   "execution_count": 37,
   "id": "28f7617d-42e5-4598-a741-76a781553227",
   "metadata": {},
   "outputs": [],
   "source": [
    "class grand_father:\n",
    "\n",
    "    def __init__(self, surname):\n",
    "        self.surname = surname\n",
    "\n",
    "class parent(grand_father):\n",
    "\n",
    "    def __init__(self, f_name, surname):\n",
    "        self.f_name = f_name\n",
    "        super().__init__(surname)\n",
    "\n",
    "class child(parent):\n",
    "\n",
    "    def __init__(self, c_name, f_name, surname):\n",
    "        self.c_name = c_name\n",
    "        super().__init__(f_name, surname)\n",
    "\n",
    "    def get_name(self):\n",
    "        return f\"{self.surname} {self.c_name} {self.f_name}\"\n",
    "\n",
    "c1 = child(\"sid\", \"atul\", \"naik\")"
   ]
  },
  {
   "cell_type": "code",
   "execution_count": 38,
   "id": "24833077-a85b-4ad9-bd01-f81b19da3cfb",
   "metadata": {},
   "outputs": [
    {
     "data": {
      "text/plain": [
       "'naik sid atul'"
      ]
     },
     "execution_count": 38,
     "metadata": {},
     "output_type": "execute_result"
    }
   ],
   "source": [
    "c1.get_name()"
   ]
  },
  {
   "cell_type": "markdown",
   "id": "771e0977-3582-412a-8372-8ea163d22039",
   "metadata": {},
   "source": [
    "# Multiple Inheritance"
   ]
  },
  {
   "cell_type": "code",
   "execution_count": 41,
   "id": "90c921e5-0e5c-4dac-99c6-4766fd0c4806",
   "metadata": {},
   "outputs": [
    {
     "name": "stdout",
     "output_type": "stream",
     "text": [
      "paint\n"
     ]
    }
   ],
   "source": [
    "class father:\n",
    "\n",
    "    def artistic_skills(self):\n",
    "        print(\"paint\")\n",
    "\n",
    "class mother:\n",
    "\n",
    "    def artistic_skills(self):\n",
    "        print(\"sketch\")\n",
    "        \n",
    "class child(father, mother):\n",
    "    pass\n",
    "\n",
    "c1 = child()\n",
    "c1.artistic_skills()"
   ]
  },
  {
   "cell_type": "markdown",
   "id": "91d7c728-3054-433c-a90d-274f6a27dc4a",
   "metadata": {},
   "source": [
    "- In above code its not possible to acess properties of both"
   ]
  },
  {
   "cell_type": "code",
   "execution_count": 50,
   "id": "671fbd7a-43c1-476e-833e-c0cfe2368df6",
   "metadata": {},
   "outputs": [
    {
     "name": "stdout",
     "output_type": "stream",
     "text": [
      "Fathers Skills : paint, Mother Skills : sketch\n"
     ]
    }
   ],
   "source": [
    "class father:\n",
    "\n",
    "    def __init__(self, p_skills):\n",
    "        self.p_skills = p_skills\n",
    "\n",
    "class mother:\n",
    "    def __init__(self, m_skills):\n",
    "        self.m_skills = m_skills\n",
    "        \n",
    "class child(father, mother):\n",
    "\n",
    "    def __init__(self, p_skills, m_skills):\n",
    "        mother.__init__(self, m_skills)\n",
    "        father.__init__(self, p_skills)\n",
    "\n",
    "    def artistic_skills(self):\n",
    "        print(f\"Fathers Skills : {self.p_skills}, Mother Skills : {self.m_skills}\")\n",
    "\n",
    "c1 = child(\"paint\", 'sketch')\n",
    "c1.artistic_skills()"
   ]
  },
  {
   "cell_type": "markdown",
   "id": "84375027-1403-496b-a361-0da181164e80",
   "metadata": {},
   "source": [
    "# HYBRID Inheritance"
   ]
  },
  {
   "cell_type": "code",
   "execution_count": 55,
   "id": "bf7fce2a-fc5d-4b1d-b101-1fcb495f4e83",
   "metadata": {},
   "outputs": [],
   "source": [
    "class grand_father:\n",
    "\n",
    "    def __init__(self, surname):\n",
    "        self.surname = surname\n",
    "\n",
    "class parent(grand_father):\n",
    "\n",
    "    def __init__(self, f_name, surname):\n",
    "        self.f_name = f_name\n",
    "        super().__init__(surname)\n",
    "\n",
    "class child(parent):\n",
    "\n",
    "    def __init__(self, c_name, f_name, surname):\n",
    "        self.c_name = c_name\n",
    "        super().__init__(f_name, surname)\n",
    "\n",
    "    def get_name(self):\n",
    "        return f\"{self.surname} {self.c_name} {self.f_name}\"\n",
    "\n",
    "class child2(parent):\n",
    "    def __init__(self, c_name, f_name, surname):\n",
    "        self.c_name = c_name\n",
    "        super().__init__(f_name, surname)\n",
    "\n",
    "    def get_name(self):\n",
    "        return f\"{self.surname} {self.c_name} {self.f_name}\"   \n",
    "\n",
    "c1 = child(\"sid\", \"atul\", \"naik\")\n",
    "\n",
    "c2 = child2(\"chauu\", \"D\", \"Wayal\")"
   ]
  },
  {
   "cell_type": "code",
   "execution_count": 56,
   "id": "3b9bb0e9-e038-4e3e-adf0-e10d219bd2d5",
   "metadata": {},
   "outputs": [
    {
     "data": {
      "text/plain": [
       "'naik sid atul'"
      ]
     },
     "execution_count": 56,
     "metadata": {},
     "output_type": "execute_result"
    }
   ],
   "source": [
    "c1.get_name()"
   ]
  },
  {
   "cell_type": "code",
   "execution_count": 57,
   "id": "8a96a2bc-91ae-4905-9fa7-2ee6c7263cfa",
   "metadata": {},
   "outputs": [
    {
     "data": {
      "text/plain": [
       "'Wayal chauu D'"
      ]
     },
     "execution_count": 57,
     "metadata": {},
     "output_type": "execute_result"
    }
   ],
   "source": [
    "c2.get_name()"
   ]
  },
  {
   "cell_type": "markdown",
   "id": "f1437ecd-9f79-4682-8d08-9cade53bb0ae",
   "metadata": {},
   "source": [
    "# Hierarchical Inheritance\n",
    "\n",
    "- python don not support diamond problem"
   ]
  },
  {
   "cell_type": "code",
   "execution_count": 59,
   "id": "ab77ed2a-b6a9-44f8-83ab-10f2b4f08325",
   "metadata": {},
   "outputs": [],
   "source": [
    "class parent:\n",
    "\n",
    "    def __init__(self, f_name):\n",
    "        self.f_name = f_name\n",
    "\n",
    "class child(parent):\n",
    "\n",
    "    def __init__(self, c_name, f_name):\n",
    "        self.c_name = c_name\n",
    "        super().__init__(f_name)\n",
    "\n",
    "    def get_name(self):\n",
    "        return f\"{self.c_name} {self.f_name}\"\n",
    "\n",
    "class child2(parent):\n",
    "    def __init__(self, c_name, f_name):\n",
    "        self.c_name = c_name\n",
    "        super().__init__(f_name)\n",
    "\n",
    "    def get_name(self):\n",
    "        return f\"{self.c_name} {self.f_name}\"   \n",
    "\n",
    "c1 = child(\"sid\", \"atul\")\n",
    "\n",
    "c2 = child2(\"chauu\", \"D\")"
   ]
  },
  {
   "cell_type": "code",
   "execution_count": 60,
   "id": "7c79aad5-7255-4ea7-8921-11328841decd",
   "metadata": {},
   "outputs": [
    {
     "data": {
      "text/plain": [
       "'sid atul'"
      ]
     },
     "execution_count": 60,
     "metadata": {},
     "output_type": "execute_result"
    }
   ],
   "source": [
    "c1.get_name()"
   ]
  },
  {
   "cell_type": "code",
   "execution_count": 62,
   "id": "77efb884-7f6b-471a-9382-635fa61d5686",
   "metadata": {},
   "outputs": [
    {
     "data": {
      "text/plain": [
       "'chauu D'"
      ]
     },
     "execution_count": 62,
     "metadata": {},
     "output_type": "execute_result"
    }
   ],
   "source": [
    "c2.get_name()"
   ]
  },
  {
   "cell_type": "markdown",
   "id": "958a9be8-cce1-438b-b45c-b37e9f87cfb4",
   "metadata": {},
   "source": [
    "# Diamond problem"
   ]
  },
  {
   "cell_type": "code",
   "execution_count": 73,
   "id": "75133660-9916-44b9-b364-1dc4ed14b088",
   "metadata": {},
   "outputs": [
    {
     "data": {
      "text/plain": [
       "'sid atul namrata naik'"
      ]
     },
     "execution_count": 73,
     "metadata": {},
     "output_type": "execute_result"
    }
   ],
   "source": [
    "class parent:\n",
    "\n",
    "    def __init__(self, f_name):\n",
    "        self.f_name = f_name\n",
    "\n",
    "class child1(parent):\n",
    "\n",
    "    def __init__(self, c1_name):\n",
    "        self.c1_name = c1_name\n",
    "\n",
    "class child2(parent):\n",
    "    def __init__(self, c2_name, f_name):\n",
    "        self.c2_name = c2_name\n",
    "        super().__init__(f_name)  \n",
    "\n",
    "class grand_child(child1, child2):\n",
    "\n",
    "    def __init__(self,g_name, c1_name, c2_name, f_name):\n",
    "        self.g_name = g_name\n",
    "        child1.__init__(self, c1_name)\n",
    "        child2.__init__(self, c2_name, f_name)\n",
    "\n",
    "    def get_name(self):\n",
    "        return f\"{self.g_name} {self.c1_name} {self.c2_name} {self.f_name}\"\n",
    "\n",
    "g = grand_child(\"sid\",\"atul\",\"namrata\",\"naik\")\n",
    "g.get_name()\n",
    "\n"
   ]
  },
  {
   "cell_type": "code",
   "execution_count": null,
   "id": "fa7544b0-c117-419b-8ce3-093e4dbc1857",
   "metadata": {},
   "outputs": [],
   "source": []
  },
  {
   "cell_type": "code",
   "execution_count": null,
   "id": "ba264630-a360-4738-a2ae-fb9c9b1227cd",
   "metadata": {},
   "outputs": [],
   "source": []
  }
 ],
 "metadata": {
  "kernelspec": {
   "display_name": "Python 3 (ipykernel)",
   "language": "python",
   "name": "python3"
  },
  "language_info": {
   "codemirror_mode": {
    "name": "ipython",
    "version": 3
   },
   "file_extension": ".py",
   "mimetype": "text/x-python",
   "name": "python",
   "nbconvert_exporter": "python",
   "pygments_lexer": "ipython3",
   "version": "3.13.3"
  }
 },
 "nbformat": 4,
 "nbformat_minor": 5
}
