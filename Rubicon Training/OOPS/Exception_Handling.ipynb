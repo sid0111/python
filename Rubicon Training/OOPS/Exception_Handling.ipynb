{
 "cells": [
  {
   "cell_type": "markdown",
   "id": "ff63ce71-1d55-4039-985b-b9ded1ccdd4a",
   "metadata": {},
   "source": [
    "### Exeption Handling"
   ]
  },
  {
   "cell_type": "code",
   "execution_count": 18,
   "id": "a07a819d-ebe9-4097-9966-0a93dc476666",
   "metadata": {},
   "outputs": [
    {
     "name": "stdin",
     "output_type": "stream",
     "text": [
      "number sdfghjkl\n"
     ]
    },
    {
     "name": "stdout",
     "output_type": "stream",
     "text": [
      "invalid literal for int() with base 10: 'sdfghjkl'\n",
      "Program exection enede\n"
     ]
    }
   ],
   "source": [
    "try:\n",
    "    num = int(input('number'))\n",
    "    div = int(input('number'))\n",
    "    \n",
    "    res = num/div\n",
    "\n",
    "\n",
    "except ZeroDivisionError as e:\n",
    "    print(e)\n",
    "\n",
    "except Exception as e:\n",
    "    print(e)\n",
    "\n",
    "else:\n",
    "    print(res)\n",
    "    \n",
    "finally:\n",
    "    print('Program exection enede')"
   ]
  },
  {
   "cell_type": "markdown",
   "id": "5d7cb037-c0d2-4e57-9c20-89018ebb23d9",
   "metadata": {},
   "source": [
    "## raising exception"
   ]
  },
  {
   "cell_type": "code",
   "execution_count": 20,
   "id": "2d3ad6bd-7201-4d3b-9356-c71098f61ed8",
   "metadata": {},
   "outputs": [
    {
     "name": "stdin",
     "output_type": "stream",
     "text": [
      "number -1\n",
      "number -2\n"
     ]
    },
    {
     "name": "stdout",
     "output_type": "stream",
     "text": [
      "no negative values allowed\n",
      "Program exection enede\n"
     ]
    }
   ],
   "source": [
    "try:\n",
    "    num = int(input('number'))\n",
    "    div = int(input('number'))\n",
    "\n",
    "    if num<0 or div<0:\n",
    "        raise Exception('no negative values allowed')\n",
    "        \n",
    "    res = num/div\n",
    "\n",
    "\n",
    "except ZeroDivisionError as e:\n",
    "    print(e)\n",
    "\n",
    "except Exception as e:\n",
    "    print(e)\n",
    "\n",
    "else:\n",
    "    print(res)\n",
    "    \n",
    "finally:\n",
    "    print('Program exection enede')"
   ]
  },
  {
   "cell_type": "markdown",
   "id": "3fde945d-e076-47e2-897d-6851aa2acfeb",
   "metadata": {},
   "source": [
    "# user defined exception"
   ]
  },
  {
   "cell_type": "code",
   "execution_count": 23,
   "id": "de76df32-992b-4f55-89d1-55824a953691",
   "metadata": {},
   "outputs": [
    {
     "name": "stdin",
     "output_type": "stream",
     "text": [
      "number -4\n",
      "number -34\n"
     ]
    },
    {
     "name": "stdout",
     "output_type": "stream",
     "text": [
      "no negative value accepted\n",
      "exceptions must derive from BaseException\n",
      "Program exection enede\n"
     ]
    }
   ],
   "source": [
    "class CheckVal(Exception):\n",
    "    def display():\n",
    "        print('no negative value accepted')\n",
    "\n",
    "try:\n",
    "    num = int(input('number'))\n",
    "    div = int(input('number'))\n",
    "\n",
    "    if num<0 or div<0:\n",
    "        raise CheckVal.display()\n",
    "        \n",
    "    res = num/div\n",
    "\n",
    "\n",
    "except ZeroDivisionError as e:\n",
    "    print(e)\n",
    "\n",
    "except Exception as e:\n",
    "    print(e)\n",
    "\n",
    "else:\n",
    "    print(res)\n",
    "    \n",
    "finally:\n",
    "    print('Program exection enede')"
   ]
  },
  {
   "cell_type": "code",
   "execution_count": 26,
   "id": "ee7a8964-3f46-40ab-af57-8fc554b4dd54",
   "metadata": {},
   "outputs": [
    {
     "name": "stdin",
     "output_type": "stream",
     "text": [
      "number -7\n",
      "number -5\n"
     ]
    },
    {
     "name": "stdout",
     "output_type": "stream",
     "text": [
      "value not accepted\n",
      "Program exection enede\n"
     ]
    }
   ],
   "source": [
    "class CheckVal(Exception):\n",
    "     def __init__(self, msg=\"value not accepted\"):\n",
    "         self.msg = msg\n",
    "\n",
    "try:\n",
    "    num = int(input('number'))\n",
    "    div = int(input('number'))\n",
    "\n",
    "    if num<0 or div<0:\n",
    "        raise CheckVal()\n",
    "        \n",
    "    res = num/div\n",
    "\n",
    "except CheckVal as e:\n",
    "    print(e.msg)\n",
    "\n",
    "else:\n",
    "    print(res)\n",
    "    \n",
    "finally:\n",
    "    print('Program exection enede')"
   ]
  },
  {
   "cell_type": "code",
   "execution_count": 27,
   "id": "f114b7c4-defb-49a7-a2de-3cb5f29caed4",
   "metadata": {},
   "outputs": [
    {
     "name": "stdin",
     "output_type": "stream",
     "text": [
      "number -5\n",
      "number -4\n"
     ]
    },
    {
     "name": "stdout",
     "output_type": "stream",
     "text": [
      "value not accepted\n",
      "Program exection enede\n"
     ]
    }
   ],
   "source": [
    "class CheckVal(Exception):\n",
    "     def __init__(self, msg=\"value not accepted\"):\n",
    "         self.msg = msg\n",
    "         super().__init__(self.msg)\n",
    "\n",
    "try:\n",
    "    num = int(input('number'))\n",
    "    div = int(input('number'))\n",
    "\n",
    "    if num<0 or div<0:\n",
    "        raise CheckVal()\n",
    "        \n",
    "    res = num/div\n",
    "\n",
    "except CheckVal as e:\n",
    "    print(e)\n",
    "\n",
    "else:\n",
    "    print(res)\n",
    "    \n",
    "finally:\n",
    "    print('Program exection enede')"
   ]
  },
  {
   "cell_type": "code",
   "execution_count": null,
   "id": "b21470b5-8bff-4241-9f03-8e1dcc1f2723",
   "metadata": {},
   "outputs": [],
   "source": []
  }
 ],
 "metadata": {
  "kernelspec": {
   "display_name": "Python 3 (ipykernel)",
   "language": "python",
   "name": "python3"
  },
  "language_info": {
   "codemirror_mode": {
    "name": "ipython",
    "version": 3
   },
   "file_extension": ".py",
   "mimetype": "text/x-python",
   "name": "python",
   "nbconvert_exporter": "python",
   "pygments_lexer": "ipython3",
   "version": "3.13.3"
  }
 },
 "nbformat": 4,
 "nbformat_minor": 5
}
