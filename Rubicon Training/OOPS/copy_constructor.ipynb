{
 "cells": [
  {
   "cell_type": "markdown",
   "id": "a2ebb3cc-1716-4a81-aab1-f59150097e69",
   "metadata": {},
   "source": [
    "### Copy Constructor\n",
    "\n",
    "##### for this we need to import Copy module\n",
    "- c2 = Copy.copy(c2)\n",
    "- c2 = Copy.DeepCopy(c1)"
   ]
  },
  {
   "cell_type": "code",
   "execution_count": 2,
   "id": "a02d8ef5-3af3-401c-a505-b656d67a62e7",
   "metadata": {},
   "outputs": [],
   "source": [
    "class bankAccount:\n",
    "    \n",
    "    def __init__(self,name,accountNumber, bal):\n",
    "        self.bal = bal\n",
    "        self.name = name\n",
    "        self.accountNumber = accountNumber\n",
    "        \n",
    "    def deposit(self, amt):\n",
    "        self.bal += amt\n",
    "        print(\"Amount Deposited\")\n",
    "        self.get_balance()\n",
    "        \n",
    "    def withdraw(self, amt):\n",
    "        self.bal -= amt\n",
    "        print(\"Amount Withdrawed\")\n",
    "        self.get_balance()\n",
    "\n",
    "    def get_balance(self):\n",
    "        print(self.bal)\n",
    "\n",
    "    def display(self):\n",
    "        print(self.name)\n",
    "        print(self.accountNumber)"
   ]
  },
  {
   "cell_type": "code",
   "execution_count": 5,
   "id": "a655905d-a9ce-4051-8802-2aff5366367d",
   "metadata": {},
   "outputs": [],
   "source": [
    "c1 = bankAccount('sid',103,100000)"
   ]
  },
  {
   "cell_type": "code",
   "execution_count": 7,
   "id": "67763203-5aa7-4948-8b0b-101151650b89",
   "metadata": {},
   "outputs": [],
   "source": [
    "import copy"
   ]
  },
  {
   "cell_type": "markdown",
   "id": "cc4a4c21-6fba-4fa2-9ec2-5bb4bc3a839e",
   "metadata": {},
   "source": [
    "- shallow copy : just outer reference but properties to be changed must be mutable"
   ]
  },
  {
   "cell_type": "code",
   "execution_count": 10,
   "id": "54ffe363-d534-416e-b848-c9d9503df8df",
   "metadata": {},
   "outputs": [],
   "source": [
    "c2 = copy.copy(c1) #shallow copy"
   ]
  },
  {
   "cell_type": "code",
   "execution_count": 11,
   "id": "b4427cb5-1616-499d-9e1b-0ca1afb1a00e",
   "metadata": {},
   "outputs": [
    {
     "name": "stdout",
     "output_type": "stream",
     "text": [
      "sid\n",
      "103\n"
     ]
    }
   ],
   "source": [
    "c2.display()"
   ]
  },
  {
   "cell_type": "code",
   "execution_count": 12,
   "id": "4ff29975-a72a-4931-b1c8-4e0f3e1fa019",
   "metadata": {},
   "outputs": [
    {
     "name": "stdout",
     "output_type": "stream",
     "text": [
      "sid\n",
      "103\n"
     ]
    }
   ],
   "source": [
    "c1.display()"
   ]
  },
  {
   "cell_type": "code",
   "execution_count": 25,
   "id": "3629a30f-9bfd-44bc-983b-fd18805a9e46",
   "metadata": {},
   "outputs": [],
   "source": [
    "c1.name = 'san'"
   ]
  },
  {
   "cell_type": "code",
   "execution_count": 26,
   "id": "6b1f28c8-a74d-457c-bd88-7e183bfd1e3a",
   "metadata": {},
   "outputs": [
    {
     "name": "stdout",
     "output_type": "stream",
     "text": [
      "san\n",
      "103\n"
     ]
    }
   ],
   "source": [
    "c1.display()"
   ]
  },
  {
   "cell_type": "code",
   "execution_count": 27,
   "id": "1ed36ac7-bf62-483d-ad2d-bcaa8494600c",
   "metadata": {},
   "outputs": [
    {
     "name": "stdout",
     "output_type": "stream",
     "text": [
      "sam\n",
      "103\n"
     ]
    }
   ],
   "source": [
    "c2.display()"
   ]
  },
  {
   "cell_type": "markdown",
   "id": "b593a28e-dcb1-41eb-b2d3-479cad52806e",
   "metadata": {},
   "source": [
    "- change didint happen beacuse string is immutable"
   ]
  },
  {
   "cell_type": "code",
   "execution_count": 29,
   "id": "8d7957c9-9987-452b-bc07-562cd82d0b68",
   "metadata": {},
   "outputs": [],
   "source": [
    "class bankAccount:\n",
    "    \n",
    "    def __init__(self,name,accountNumber, bal):\n",
    "        self.bal = bal\n",
    "        self.name = name\n",
    "        self.accountNumber = accountNumber\n",
    "        \n",
    "    def deposit(self, amt):\n",
    "        self.bal += amt\n",
    "        print(\"Amount Deposited\")\n",
    "        self.get_balance()\n",
    "        \n",
    "    def withdraw(self, amt):\n",
    "        self.bal -= amt\n",
    "        print(\"Amount Withdrawed\")\n",
    "        self.get_balance()\n",
    "\n",
    "    def get_balance(self):\n",
    "        print(self.bal)\n",
    "\n",
    "    def display(self):\n",
    "        print(self.name)\n",
    "        print(self.accountNumber)"
   ]
  },
  {
   "cell_type": "code",
   "execution_count": 30,
   "id": "1dcb95c8-24a5-4808-97fe-0283ae8f3145",
   "metadata": {},
   "outputs": [],
   "source": [
    "c1 = bankAccount(['s','i','d'],103,100000)"
   ]
  },
  {
   "cell_type": "code",
   "execution_count": 31,
   "id": "83e70d79-45ed-4e3f-a0d3-6c70270dca62",
   "metadata": {},
   "outputs": [],
   "source": [
    "c2 = copy.copy(c1)"
   ]
  },
  {
   "cell_type": "code",
   "execution_count": 32,
   "id": "7bdee6b5-b25e-4712-be80-dc3c9300665d",
   "metadata": {},
   "outputs": [
    {
     "name": "stdout",
     "output_type": "stream",
     "text": [
      "['s', 'i', 'd']\n",
      "103\n"
     ]
    }
   ],
   "source": [
    "c2.display()"
   ]
  },
  {
   "cell_type": "code",
   "execution_count": 33,
   "id": "104d83e0-768a-4116-b636-f43f07e49edf",
   "metadata": {},
   "outputs": [
    {
     "name": "stdout",
     "output_type": "stream",
     "text": [
      "['s', 'i', 'd']\n",
      "103\n"
     ]
    }
   ],
   "source": [
    "c1.display()"
   ]
  },
  {
   "cell_type": "code",
   "execution_count": 36,
   "id": "ef43e3d7-98a9-49fa-af8b-70c81dbf2937",
   "metadata": {},
   "outputs": [],
   "source": [
    "c1.name = ['s','a','m']"
   ]
  },
  {
   "cell_type": "code",
   "execution_count": 37,
   "id": "c118add7-4804-4aff-aaf2-c623ea9ec36f",
   "metadata": {},
   "outputs": [
    {
     "name": "stdout",
     "output_type": "stream",
     "text": [
      "['s', 'a', 'm']\n",
      "103\n"
     ]
    }
   ],
   "source": [
    "c2.display()"
   ]
  },
  {
   "cell_type": "code",
   "execution_count": 38,
   "id": "b359177b-71b8-44cc-8eb4-14e1697c96dd",
   "metadata": {},
   "outputs": [
    {
     "name": "stdout",
     "output_type": "stream",
     "text": [
      "['s', 'a', 'm']\n",
      "103\n"
     ]
    }
   ],
   "source": [
    "c1.display()"
   ]
  },
  {
   "cell_type": "markdown",
   "id": "ee3e1b3c-a0a0-4945-94ad-2d741058f0bc",
   "metadata": {},
   "source": [
    "# deep copy"
   ]
  },
  {
   "cell_type": "code",
   "execution_count": 39,
   "id": "c9d9b9d3-3e11-4135-985f-ef462b1e34ee",
   "metadata": {},
   "outputs": [],
   "source": [
    "c3 = copy.deepcopy(c1)"
   ]
  },
  {
   "cell_type": "code",
   "execution_count": 40,
   "id": "70b74f34-98d2-4900-b511-69fa2b539408",
   "metadata": {},
   "outputs": [],
   "source": [
    "c1.name=['s','a','n']"
   ]
  },
  {
   "cell_type": "code",
   "execution_count": null,
   "id": "ed1fcdaa-6b9e-4386-9ae8-2dbb1e169d3a",
   "metadata": {},
   "outputs": [],
   "source": [
    "c2.displa"
   ]
  }
 ],
 "metadata": {
  "kernelspec": {
   "display_name": "Python 3 (ipykernel)",
   "language": "python",
   "name": "python3"
  },
  "language_info": {
   "codemirror_mode": {
    "name": "ipython",
    "version": 3
   },
   "file_extension": ".py",
   "mimetype": "text/x-python",
   "name": "python",
   "nbconvert_exporter": "python",
   "pygments_lexer": "ipython3",
   "version": "3.13.3"
  }
 },
 "nbformat": 4,
 "nbformat_minor": 5
}
