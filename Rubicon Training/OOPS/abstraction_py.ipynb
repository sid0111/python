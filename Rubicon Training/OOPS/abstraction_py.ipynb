{
 "cells": [
  {
   "cell_type": "code",
   "execution_count": 19,
   "id": "e9ef2d21-8752-4191-829a-2f6e0f3033ef",
   "metadata": {},
   "outputs": [
    {
     "name": "stdout",
     "output_type": "stream",
     "text": [
      "amount got withdraw\n"
     ]
    }
   ],
   "source": [
    "from abc import ABC, abstractmethod\n",
    "\n",
    "class ATM(ABC):\n",
    "\n",
    "    @abstractmethod\n",
    "    def withdraw(self):\n",
    "        print('we can also give body to abstract method but we cannot create object and call this method')\n",
    "\n",
    "class ATM_OP(ATM):\n",
    "\n",
    "    def withdraw(self):\n",
    "        print('amount got withdraw')\n",
    "\n",
    "a1 = ATM_OP()\n",
    "a1.withdraw()"
   ]
  },
  {
   "cell_type": "code",
   "execution_count": null,
   "id": "a617797d-89f8-4617-ba67-6811507862ce",
   "metadata": {},
   "outputs": [],
   "source": []
  }
 ],
 "metadata": {
  "kernelspec": {
   "display_name": "Python 3 (ipykernel)",
   "language": "python",
   "name": "python3"
  },
  "language_info": {
   "codemirror_mode": {
    "name": "ipython",
    "version": 3
   },
   "file_extension": ".py",
   "mimetype": "text/x-python",
   "name": "python",
   "nbconvert_exporter": "python",
   "pygments_lexer": "ipython3",
   "version": "3.13.3"
  }
 },
 "nbformat": 4,
 "nbformat_minor": 5
}
