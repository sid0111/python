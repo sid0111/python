{
 "cells": [
  {
   "cell_type": "code",
   "execution_count": 10,
   "id": "1061c509-fa2e-48bf-9718-6071b126fd6f",
   "metadata": {},
   "outputs": [],
   "source": [
    "f = open('sid.txt','w')"
   ]
  },
  {
   "cell_type": "code",
   "execution_count": 11,
   "id": "ff971a26-c17b-4577-93c0-50260eb02115",
   "metadata": {},
   "outputs": [
    {
     "data": {
      "text/plain": [
       "11"
      ]
     },
     "execution_count": 11,
     "metadata": {},
     "output_type": "execute_result"
    }
   ],
   "source": [
    "f.write('hello world')"
   ]
  },
  {
   "cell_type": "code",
   "execution_count": 12,
   "id": "f9b65759-03da-4914-b46c-7d2dfba82bdd",
   "metadata": {},
   "outputs": [],
   "source": [
    "f.close()"
   ]
  },
  {
   "cell_type": "markdown",
   "id": "3be1dcb7-8bf7-4b99-b575-97d08e8529fe",
   "metadata": {},
   "source": [
    "#### override prev content each time we try to write the file"
   ]
  },
  {
   "cell_type": "markdown",
   "id": "e3ac3f0f-4a8f-4bd5-8c60-7a50f1a00215",
   "metadata": {},
   "source": [
    "- a : append\n",
    "- w : write\n",
    "- r : read"
   ]
  },
  {
   "cell_type": "code",
   "execution_count": 35,
   "id": "fd61685a-8067-4a94-8241-8cf91d8983d5",
   "metadata": {},
   "outputs": [],
   "source": [
    "f1 = open('demo.txt', 'a')\n",
    "data = [\"hi im naik siddhesh \\nI am data scientist\"]\n",
    "f1.writelines(data)\n",
    "f1.close()"
   ]
  },
  {
   "cell_type": "code",
   "execution_count": 22,
   "id": "5a18d327-6178-41a2-bea3-962920f08a07",
   "metadata": {},
   "outputs": [],
   "source": [
    "f1 = open('demo.txt','r')\n",
    "#print(f1.read())  #read all data at a time"
   ]
  },
  {
   "cell_type": "code",
   "execution_count": 23,
   "id": "01578ae7-4b0f-4076-8b3d-c4e0ad2d7d3c",
   "metadata": {},
   "outputs": [
    {
     "name": "stdout",
     "output_type": "stream",
     "text": [
      "hi im naik siddhesh \n",
      "\n"
     ]
    }
   ],
   "source": [
    "print(f1.readline()) #read data line by line"
   ]
  },
  {
   "cell_type": "code",
   "execution_count": 24,
   "id": "3a3ccfa0-4981-42e3-9228-4e2f0cde4de1",
   "metadata": {},
   "outputs": [
    {
     "name": "stdout",
     "output_type": "stream",
     "text": [
      " I am data scientisthi im naik siddhesh \n",
      "\n"
     ]
    }
   ],
   "source": [
    "print(f1.readline())"
   ]
  },
  {
   "cell_type": "code",
   "execution_count": 25,
   "id": "422f6e80-0ab6-44d1-9f73-3eb8a07f3141",
   "metadata": {},
   "outputs": [
    {
     "name": "stdout",
     "output_type": "stream",
     "text": [
      "I am data scientist\n"
     ]
    }
   ],
   "source": [
    "print(f1.readline())"
   ]
  },
  {
   "cell_type": "code",
   "execution_count": 26,
   "id": "57dc5079-68ea-430a-be0f-cb2464eb391e",
   "metadata": {},
   "outputs": [
    {
     "name": "stdout",
     "output_type": "stream",
     "text": [
      "\n"
     ]
    }
   ],
   "source": [
    "print(f1.readline())"
   ]
  },
  {
   "cell_type": "code",
   "execution_count": 27,
   "id": "e073aa8b-4bc5-4f72-a5fe-749d22c3e269",
   "metadata": {},
   "outputs": [],
   "source": [
    "f1.close()"
   ]
  },
  {
   "cell_type": "code",
   "execution_count": 34,
   "id": "e401cc65-8753-426f-a664-2278a005adc8",
   "metadata": {},
   "outputs": [
    {
     "data": {
      "text/plain": [
       "''"
      ]
     },
     "execution_count": 34,
     "metadata": {},
     "output_type": "execute_result"
    }
   ],
   "source": [
    "f = open('demo.txt', 'r')\n",
    "f.read()"
   ]
  },
  {
   "cell_type": "code",
   "execution_count": 37,
   "id": "e90a33ac-31f9-41ec-82bf-e780b126a5e5",
   "metadata": {},
   "outputs": [],
   "source": [
    "f1 = open('demo.txt','a')\n",
    "f1.write('2345678')\n",
    "f1.close()"
   ]
  },
  {
   "cell_type": "code",
   "execution_count": 38,
   "id": "013a5ba9-b114-4ec1-8011-a3e29c0ee44f",
   "metadata": {},
   "outputs": [
    {
     "name": "stdout",
     "output_type": "stream",
     "text": [
      "hi im naik siddhesh \n",
      "I am data scientist2345678\n"
     ]
    }
   ],
   "source": [
    "f1 = open('demo.txt','r')\n",
    "print(f1.read())\n",
    "f1.close()"
   ]
  },
  {
   "cell_type": "code",
   "execution_count": 43,
   "id": "5eb88ca8-ac92-46da-bfd4-9a67b6a8c449",
   "metadata": {},
   "outputs": [
    {
     "ename": "TypeError",
     "evalue": "write() argument must be str, not bytes",
     "output_type": "error",
     "traceback": [
      "\u001b[31m---------------------------------------------------------------------------\u001b[39m",
      "\u001b[31mTypeError\u001b[39m                                 Traceback (most recent call last)",
      "\u001b[36mCell\u001b[39m\u001b[36m \u001b[39m\u001b[32mIn[43]\u001b[39m\u001b[32m, line 2\u001b[39m\n\u001b[32m      1\u001b[39m f1 = \u001b[38;5;28mopen\u001b[39m(\u001b[33m'\u001b[39m\u001b[33mdemo.txt\u001b[39m\u001b[33m'\u001b[39m,\u001b[33m'\u001b[39m\u001b[33mw\u001b[39m\u001b[33m'\u001b[39m)\n\u001b[32m----> \u001b[39m\u001b[32m2\u001b[39m \u001b[43mf1\u001b[49m\u001b[43m.\u001b[49m\u001b[43mwrite\u001b[49m\u001b[43m(\u001b[49m\u001b[33;43mb\u001b[39;49m\u001b[33;43m\"\u001b[39;49m\u001b[33;43mhello sid!\u001b[39;49m\u001b[33;43m\"\u001b[39;49m\u001b[43m)\u001b[49m\n\u001b[32m      3\u001b[39m f1.close()\n",
      "\u001b[31mTypeError\u001b[39m: write() argument must be str, not bytes"
     ]
    }
   ],
   "source": [
    "f1 = open('demo.txt','w')\n",
    "f1.write(b\"hello sid!\")\n",
    "f1.close()"
   ]
  },
  {
   "cell_type": "code",
   "execution_count": null,
   "id": "a2175b9b-17e9-4530-8354-5f0f9be07aa0",
   "metadata": {},
   "outputs": [],
   "source": []
  },
  {
   "cell_type": "code",
   "execution_count": null,
   "id": "5bbc8f14-3d03-4a6c-941d-627dbcb8e542",
   "metadata": {},
   "outputs": [],
   "source": []
  }
 ],
 "metadata": {
  "kernelspec": {
   "display_name": "Python 3 (ipykernel)",
   "language": "python",
   "name": "python3"
  },
  "language_info": {
   "codemirror_mode": {
    "name": "ipython",
    "version": 3
   },
   "file_extension": ".py",
   "mimetype": "text/x-python",
   "name": "python",
   "nbconvert_exporter": "python",
   "pygments_lexer": "ipython3",
   "version": "3.13.3"
  }
 },
 "nbformat": 4,
 "nbformat_minor": 5
}
