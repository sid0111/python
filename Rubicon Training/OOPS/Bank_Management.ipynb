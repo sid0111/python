{
 "cells": [
  {
   "cell_type": "markdown",
   "id": "800ed53f-fd2c-41ed-a3c7-38206a11f32a",
   "metadata": {},
   "source": [
    "### BankAccount\n",
    "========================================================================\n",
    "| accountNumber, balance, name                                         |\n",
    "----------------------------------------------------------------------\n",
    "| deposit(amount), withdraw(amount), get_balance(), display()          |\n",
    "------------------------------------------------------------------------"
   ]
  },
  {
   "cell_type": "code",
   "execution_count": 74,
   "id": "654d95f9-5fdd-4a67-b268-596f3d102ed6",
   "metadata": {},
   "outputs": [],
   "source": [
    "class bankAccount:\n",
    "    \n",
    "    def __init__(self,name,accountNumber, bal):\n",
    "        self.bal = bal\n",
    "        self.name = name\n",
    "        self.accountNumber = accountNumber\n",
    "        \n",
    "    def deposit(self, amt):\n",
    "        self.bal += amt\n",
    "        print(\"Amount Deposited\")\n",
    "        self.get_balance()\n",
    "        \n",
    "    def withdraw(self, amt):\n",
    "        self.bal -= amt\n",
    "        print(\"Amount Withdrawed\")\n",
    "        self.get_balance()\n",
    "\n",
    "    def get_balance(self):\n",
    "        print(self.bal)\n",
    "\n",
    "    def display(self):\n",
    "        print(self.name)\n",
    "        print(self.accountNumber)"
   ]
  },
  {
   "cell_type": "code",
   "execution_count": 64,
   "id": "9fe75ee1-8285-4464-a9f4-4fa7282e60a8",
   "metadata": {},
   "outputs": [
    {
     "name": "stdout",
     "output_type": "stream",
     "text": [
      "sid\n",
      "101101\n"
     ]
    }
   ],
   "source": [
    "c1 = bankAccount('sid', 101101, 12345678)\n",
    "c1.display()"
   ]
  },
  {
   "cell_type": "code",
   "execution_count": 65,
   "id": "7ff813f5-5a9f-47d9-8e0e-4935041755d5",
   "metadata": {},
   "outputs": [
    {
     "name": "stdout",
     "output_type": "stream",
     "text": [
      "Amount Deposited\n",
      "12346912\n"
     ]
    }
   ],
   "source": [
    "c1.deposit(1234)"
   ]
  },
  {
   "cell_type": "code",
   "execution_count": 66,
   "id": "16632445-75b7-4fb1-9991-a1cd21608674",
   "metadata": {},
   "outputs": [
    {
     "name": "stdout",
     "output_type": "stream",
     "text": [
      "12346912\n"
     ]
    }
   ],
   "source": [
    "c1.get_balance()"
   ]
  },
  {
   "cell_type": "code",
   "execution_count": 67,
   "id": "937d39b0-6782-4cf8-83b1-4314591f4cdf",
   "metadata": {},
   "outputs": [
    {
     "name": "stdout",
     "output_type": "stream",
     "text": [
      "Amount Deposited\n",
      "12348146\n"
     ]
    }
   ],
   "source": [
    "c1.deposit(1234)"
   ]
  },
  {
   "cell_type": "code",
   "execution_count": 68,
   "id": "bc29af8f-1931-40f4-a596-eda0e8b0d50e",
   "metadata": {},
   "outputs": [
    {
     "name": "stdout",
     "output_type": "stream",
     "text": [
      "12348146\n"
     ]
    }
   ],
   "source": [
    "c1.get_balance()"
   ]
  },
  {
   "cell_type": "code",
   "execution_count": 69,
   "id": "72cf64bd-0ecd-43bb-9f51-bca6316afb4b",
   "metadata": {},
   "outputs": [
    {
     "name": "stdout",
     "output_type": "stream",
     "text": [
      "Amount Withdrawed\n"
     ]
    }
   ],
   "source": [
    "c1.withdraw(1234)"
   ]
  },
  {
   "cell_type": "code",
   "execution_count": 70,
   "id": "106d8a74-c623-4f8a-ac26-18288a7fd506",
   "metadata": {},
   "outputs": [
    {
     "name": "stdout",
     "output_type": "stream",
     "text": [
      "12346912\n"
     ]
    }
   ],
   "source": [
    "c1.get_balance()"
   ]
  },
  {
   "cell_type": "code",
   "execution_count": 71,
   "id": "f5e33192-a5d2-48ce-aeae-4b2b0801da78",
   "metadata": {},
   "outputs": [],
   "source": [
    "c2 = bankAccount('sam',202202, 100)"
   ]
  },
  {
   "cell_type": "code",
   "execution_count": 72,
   "id": "6c290d6f-1693-4d95-999d-41b1379bac99",
   "metadata": {},
   "outputs": [
    {
     "name": "stdout",
     "output_type": "stream",
     "text": [
      "Amount Deposited\n",
      "100000100\n"
     ]
    }
   ],
   "source": [
    "c2.deposit(100000000)"
   ]
  },
  {
   "cell_type": "code",
   "execution_count": 75,
   "id": "9d61db27-2c7b-45b1-8342-06dd4835b1ee",
   "metadata": {},
   "outputs": [
    {
     "name": "stdout",
     "output_type": "stream",
     "text": [
      "Amount Withdrawed\n"
     ]
    }
   ],
   "source": [
    "c2.withdraw(1000000)"
   ]
  },
  {
   "cell_type": "code",
   "execution_count": 76,
   "id": "d9f50f62-7331-43f2-86cd-41ae9a552d8f",
   "metadata": {},
   "outputs": [
    {
     "name": "stdout",
     "output_type": "stream",
     "text": [
      "98000100\n"
     ]
    }
   ],
   "source": [
    "c2.get_balance()"
   ]
  },
  {
   "cell_type": "code",
   "execution_count": null,
   "id": "8f4417d7-9105-4793-bbab-0deb633ca127",
   "metadata": {},
   "outputs": [],
   "source": []
  }
 ],
 "metadata": {
  "kernelspec": {
   "display_name": "Python 3 (ipykernel)",
   "language": "python",
   "name": "python3"
  },
  "language_info": {
   "codemirror_mode": {
    "name": "ipython",
    "version": 3
   },
   "file_extension": ".py",
   "mimetype": "text/x-python",
   "name": "python",
   "nbconvert_exporter": "python",
   "pygments_lexer": "ipython3",
   "version": "3.13.3"
  }
 },
 "nbformat": 4,
 "nbformat_minor": 5
}
