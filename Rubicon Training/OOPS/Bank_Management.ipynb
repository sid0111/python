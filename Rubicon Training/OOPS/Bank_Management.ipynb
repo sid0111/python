{
 "cells": [
  {
   "cell_type": "markdown",
   "id": "800ed53f-fd2c-41ed-a3c7-38206a11f32a",
   "metadata": {},
   "source": [
    "### BankAccount\n",
    "========================================================================\n",
    "| accountNumber, balance, name                                         |\n",
    "----------------------------------------------------------------------\n",
    "| deposit(amount), withdraw(amount), get_balance(), display()          |\n",
    "------------------------------------------------------------------------"
   ]
  },
  {
   "cell_type": "code",
   "execution_count": 74,
   "id": "654d95f9-5fdd-4a67-b268-596f3d102ed6",
   "metadata": {},
   "outputs": [],
   "source": [
    "class bankAccount:\n",
    "    \n",
    "    def __init__(self,name,accountNumber, bal):\n",
    "        self.bal = bal\n",
    "        self.name = name\n",
    "        self.accountNumber = accountNumber\n",
    "        \n",
    "    def deposit(self, amt):\n",
    "        self.bal += amt\n",
    "        print(\"Amount Deposited\")\n",
    "        self.get_balance()\n",
    "        \n",
    "    def withdraw(self, amt):\n",
    "        self.bal -= amt\n",
    "        print(\"Amount Withdrawed\")\n",
    "        self.get_balance()\n",
    "\n",
    "    def get_balance(self):\n",
    "        print(self.bal)\n",
    "\n",
    "    def display(self):\n",
    "        print(self.name)\n",
    "        print(self.accountNumber)"
   ]
  },
  {
   "cell_type": "code",
   "execution_count": 64,
   "id": "9fe75ee1-8285-4464-a9f4-4fa7282e60a8",
   "metadata": {},
   "outputs": [
    {
     "name": "stdout",
     "output_type": "stream",
     "text": [
      "sid\n",
      "101101\n"
     ]
    }
   ],
   "source": [
    "c1 = bankAccount('sid', 101101, 12345678)\n",
    "c1.display()"
   ]
  },
  {
   "cell_type": "code",
   "execution_count": 65,
   "id": "7ff813f5-5a9f-47d9-8e0e-4935041755d5",
   "metadata": {},
   "outputs": [
    {
     "name": "stdout",
     "output_type": "stream",
     "text": [
      "Amount Deposited\n",
      "12346912\n"
     ]
    }
   ],
   "source": [
    "c1.deposit(1234)"
   ]
  },
  {
   "cell_type": "code",
   "execution_count": 66,
   "id": "16632445-75b7-4fb1-9991-a1cd21608674",
   "metadata": {},
   "outputs": [
    {
     "name": "stdout",
     "output_type": "stream",
     "text": [
      "12346912\n"
     ]
    }
   ],
   "source": [
    "c1.get_balance()"
   ]
  },
  {
   "cell_type": "code",
   "execution_count": 67,
   "id": "937d39b0-6782-4cf8-83b1-4314591f4cdf",
   "metadata": {},
   "outputs": [
    {
     "name": "stdout",
     "output_type": "stream",
     "text": [
      "Amount Deposited\n",
      "12348146\n"
     ]
    }
   ],
   "source": [
    "c1.deposit(1234)"
   ]
  },
  {
   "cell_type": "code",
   "execution_count": 68,
   "id": "bc29af8f-1931-40f4-a596-eda0e8b0d50e",
   "metadata": {},
   "outputs": [
    {
     "name": "stdout",
     "output_type": "stream",
     "text": [
      "12348146\n"
     ]
    }
   ],
   "source": [
    "c1.get_balance()"
   ]
  },
  {
   "cell_type": "code",
   "execution_count": 69,
   "id": "72cf64bd-0ecd-43bb-9f51-bca6316afb4b",
   "metadata": {},
   "outputs": [
    {
     "name": "stdout",
     "output_type": "stream",
     "text": [
      "Amount Withdrawed\n"
     ]
    }
   ],
   "source": [
    "c1.withdraw(1234)"
   ]
  },
  {
   "cell_type": "code",
   "execution_count": 70,
   "id": "106d8a74-c623-4f8a-ac26-18288a7fd506",
   "metadata": {},
   "outputs": [
    {
     "name": "stdout",
     "output_type": "stream",
     "text": [
      "12346912\n"
     ]
    }
   ],
   "source": [
    "c1.get_balance()"
   ]
  },
  {
   "cell_type": "code",
   "execution_count": 71,
   "id": "f5e33192-a5d2-48ce-aeae-4b2b0801da78",
   "metadata": {},
   "outputs": [],
   "source": [
    "c2 = bankAccount('sam',202202, 100)"
   ]
  },
  {
   "cell_type": "code",
   "execution_count": 72,
   "id": "6c290d6f-1693-4d95-999d-41b1379bac99",
   "metadata": {},
   "outputs": [
    {
     "name": "stdout",
     "output_type": "stream",
     "text": [
      "Amount Deposited\n",
      "100000100\n"
     ]
    }
   ],
   "source": [
    "c2.deposit(100000000)"
   ]
  },
  {
   "cell_type": "code",
   "execution_count": 75,
   "id": "9d61db27-2c7b-45b1-8342-06dd4835b1ee",
   "metadata": {},
   "outputs": [
    {
     "name": "stdout",
     "output_type": "stream",
     "text": [
      "Amount Withdrawed\n"
     ]
    }
   ],
   "source": [
    "c2.withdraw(1000000)"
   ]
  },
  {
   "cell_type": "code",
   "execution_count": 76,
   "id": "d9f50f62-7331-43f2-86cd-41ae9a552d8f",
   "metadata": {},
   "outputs": [
    {
     "name": "stdout",
     "output_type": "stream",
     "text": [
      "98000100\n"
     ]
    }
   ],
   "source": [
    "c2.get_balance()"
   ]
  },
  {
   "cell_type": "markdown",
   "id": "9575de6d-213c-42a9-b81e-085c15b44ac3",
   "metadata": {},
   "source": [
    "# Problem Statement2 : \n",
    "\n",
    "### BankAccount\n",
    "========================================================================\n",
    "| __accountNumber(private), __balance(private), name                   |\n",
    "----------------------------------------------------------------------\n",
    "| deposit(amount), withdraw(amount), get_balance(), display()          |\n",
    "------------------------------------------------------------------------"
   ]
  },
  {
   "cell_type": "code",
   "execution_count": 70,
   "id": "4394a3f4-5d32-4f16-9fc8-fe58be95d04d",
   "metadata": {},
   "outputs": [],
   "source": [
    "class bankAccount:\n",
    "    \n",
    "    def __init__(self,name, accountNumber, bal):\n",
    "        self.__bal = bal\n",
    "        self.name = name\n",
    "        self.__accountNumber = accountNumber\n",
    "    \n",
    "    def withdraw(self, amt):\n",
    "        self.__bal -= amt\n",
    "        print(\"Amount Withdrawed\")\n",
    "\n",
    "    @property\n",
    "    def get_acc(self):\n",
    "        return self.__accountNumber\n",
    "    \n",
    "    @property\n",
    "    def get_balance(self):\n",
    "        print(self.__bal)\n",
    "\n",
    "    @get_balance.setter\n",
    "    def set_balance(self, amt):\n",
    "        self.__bal = amt\n",
    "    \n",
    "    def deposit(self, amt):\n",
    "        self.__bal += amt\n",
    "        print(\"Amount Deposited\")\n",
    "        \n",
    "    def display(self):\n",
    "        print(self.name)\n",
    "        print(self.__accountNumber)"
   ]
  },
  {
   "cell_type": "code",
   "execution_count": 71,
   "id": "2abf2fdb-7539-44ff-a51b-b9e3220304c2",
   "metadata": {},
   "outputs": [],
   "source": [
    "cust1 = bankAccount('sid',3030, 300)"
   ]
  },
  {
   "cell_type": "code",
   "execution_count": 72,
   "id": "8affd429-d0b6-419c-9f9d-607eaa4e29a0",
   "metadata": {},
   "outputs": [
    {
     "name": "stdout",
     "output_type": "stream",
     "text": [
      "300\n"
     ]
    }
   ],
   "source": [
    "cust1.get_balance"
   ]
  },
  {
   "cell_type": "code",
   "execution_count": 73,
   "id": "2cd89963-ad18-49b7-aac5-6793328ac750",
   "metadata": {},
   "outputs": [
    {
     "name": "stdout",
     "output_type": "stream",
     "text": [
      "sid\n",
      "3030\n"
     ]
    }
   ],
   "source": [
    "cust1.display()"
   ]
  },
  {
   "cell_type": "code",
   "execution_count": 74,
   "id": "9e96ae85-4e73-4ffe-9132-27d156e7e1de",
   "metadata": {},
   "outputs": [
    {
     "name": "stdout",
     "output_type": "stream",
     "text": [
      "Amount Deposited\n"
     ]
    }
   ],
   "source": [
    "cust1.deposit(1000)"
   ]
  },
  {
   "cell_type": "code",
   "execution_count": 78,
   "id": "aa30b684-ce32-4e1d-b58b-572ba21fd2be",
   "metadata": {},
   "outputs": [
    {
     "name": "stdout",
     "output_type": "stream",
     "text": [
      "10\n"
     ]
    }
   ],
   "source": [
    "cust1.get_balance"
   ]
  },
  {
   "cell_type": "code",
   "execution_count": 76,
   "id": "35e923da-94d1-4feb-b93f-9e6eb9039579",
   "metadata": {},
   "outputs": [
    {
     "data": {
      "text/plain": [
       "3030"
      ]
     },
     "execution_count": 76,
     "metadata": {},
     "output_type": "execute_result"
    }
   ],
   "source": [
    "cust1.get_acc"
   ]
  },
  {
   "cell_type": "code",
   "execution_count": 77,
   "id": "a5ded04d-8cbb-4e74-abef-e941e0a84128",
   "metadata": {},
   "outputs": [],
   "source": [
    "cust1.set_balance = 10"
   ]
  },
  {
   "cell_type": "markdown",
   "id": "4a7d2943-9273-4b66-a550-13b441925af6",
   "metadata": {},
   "source": [
    "# Problem statement 3"
   ]
  },
  {
   "cell_type": "code",
   "execution_count": 93,
   "id": "2787ee8f-a70b-403a-99b7-8fe6741e6c2b",
   "metadata": {},
   "outputs": [
    {
     "name": "stdout",
     "output_type": "stream",
     "text": [
      "Team Size : 5,Employee ID : 101, Department : DS, Name : sid, Age : 21\n",
      "Employee ID : 102, Department : CS\n"
     ]
    }
   ],
   "source": [
    "class Person:\n",
    "\n",
    "    def __init__(self, name, age):\n",
    "        self.name = name\n",
    "        self.age = age\n",
    "\n",
    "    def display_person(self):\n",
    "        print(f\"Name : {self.name}, Age : {self.age}\")\n",
    "        \n",
    "class Employee(Person):\n",
    "\n",
    "    def __init__(self, emp_id, department):\n",
    "        self.emp_id = emp_id\n",
    "        self.department = department\n",
    "\n",
    "    def display_employee(self):\n",
    "        print(f\"Employee ID : {self.emp_id}, Department : {self.department}\")\n",
    "        \n",
    "class Manager(Employee):\n",
    "\n",
    "    def __init__(self, team_size, emp_id, department, name, age):\n",
    "        self.team_size =  team_size\n",
    "        super().__init__(emp_id, department)\n",
    "        Person.__init__(self, name, age)\n",
    "\n",
    "    def display_manager(self):\n",
    "        print(f\"Team Size : {self.team_size},Employee ID : {self.emp_id}, Department : {self.department}, Name : {self.name}, Age : {self.age}\")\n",
    "\n",
    "class Trainer(Employee):\n",
    "\n",
    "    def display_trainer(self):\n",
    "        self.display_employee()\n",
    "\n",
    "m1 = Manager(5, 101, \"DS\", \"sid\", 21)\n",
    "m1.display_manager()\n",
    "\n",
    "t1 = Trainer(102, \"CS\")\n",
    "t1.display_trainer()"
   ]
  },
  {
   "cell_type": "code",
   "execution_count": null,
   "id": "746667f4-868f-422d-a10a-19d120e68702",
   "metadata": {},
   "outputs": [],
   "source": []
  }
 ],
 "metadata": {
  "kernelspec": {
   "display_name": "Python 3 (ipykernel)",
   "language": "python",
   "name": "python3"
  },
  "language_info": {
   "codemirror_mode": {
    "name": "ipython",
    "version": 3
   },
   "file_extension": ".py",
   "mimetype": "text/x-python",
   "name": "python",
   "nbconvert_exporter": "python",
   "pygments_lexer": "ipython3",
   "version": "3.13.3"
  }
 },
 "nbformat": 4,
 "nbformat_minor": 5
}
