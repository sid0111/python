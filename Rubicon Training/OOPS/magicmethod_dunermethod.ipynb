{
 "cells": [
  {
   "cell_type": "markdown",
   "id": "3dfd8104-21e9-4d11-ae60-a552a34527d2",
   "metadata": {},
   "source": [
    "## operator overlaoding\n",
    "- we can define magic methods(dunder methods) and perform opertions we want\n",
    "- dunder methods : (_ _ methodname _ _)"
   ]
  },
  {
   "cell_type": "code",
   "execution_count": 3,
   "id": "e33ad6ef-6d5b-4ecd-92c3-08a54dd31885",
   "metadata": {},
   "outputs": [
    {
     "ename": "TypeError",
     "evalue": "unsupported operand type(s) for +: 'add' and 'add'",
     "output_type": "error",
     "traceback": [
      "\u001b[31m---------------------------------------------------------------------------\u001b[39m",
      "\u001b[31mTypeError\u001b[39m                                 Traceback (most recent call last)",
      "\u001b[36mCell\u001b[39m\u001b[36m \u001b[39m\u001b[32mIn[3]\u001b[39m\u001b[32m, line 9\u001b[39m\n\u001b[32m      6\u001b[39m c1 = add(\u001b[32m10\u001b[39m)\n\u001b[32m      7\u001b[39m c2 = add(\u001b[32m20\u001b[39m)\n\u001b[32m----> \u001b[39m\u001b[32m9\u001b[39m \u001b[43mc1\u001b[49m\u001b[43m+\u001b[49m\u001b[43mc2\u001b[49m\n",
      "\u001b[31mTypeError\u001b[39m: unsupported operand type(s) for +: 'add' and 'add'"
     ]
    }
   ],
   "source": [
    "class add:\n",
    "\n",
    "    def __init__(self, val):\n",
    "        self.val = val\n",
    "\n",
    "c1 = add(10)\n",
    "c2 = add(20)\n",
    "\n",
    "c1+c2"
   ]
  },
  {
   "cell_type": "code",
   "execution_count": 6,
   "id": "6c20d3bb-7c1c-4edd-be5b-e24f8a16a286",
   "metadata": {},
   "outputs": [
    {
     "data": {
      "text/plain": [
       "30"
      ]
     },
     "execution_count": 6,
     "metadata": {},
     "output_type": "execute_result"
    }
   ],
   "source": [
    "class add:\n",
    "\n",
    "    def __init__(self, val):\n",
    "        self.val = val\n",
    "\n",
    "    def __add__(self, another):\n",
    "        return self.val + another.val\n",
    "\n",
    "c1 = add(10)\n",
    "c2 = add(20)\n",
    "\n",
    "c1 + c2"
   ]
  },
  {
   "cell_type": "code",
   "execution_count": 8,
   "id": "e18ccd98-277b-4fba-84a0-643113ebeb31",
   "metadata": {},
   "outputs": [
    {
     "name": "stdout",
     "output_type": "stream",
     "text": [
      "400\n",
      "600\n"
     ]
    }
   ],
   "source": [
    "class add:\n",
    "    def __init__(self, val1, val2):\n",
    "        self.val1 = val1\n",
    "        self.val2 = val2\n",
    "\n",
    "    def __add__(self, another):\n",
    "        print(self.val1 + another.val1)\n",
    "        print(self.val2 + another.val2)\n",
    "\n",
    "c1 = add(100, 200)\n",
    "c2 = add(300, 400)\n",
    "\n",
    "c1+c2"
   ]
  },
  {
   "cell_type": "code",
   "execution_count": 10,
   "id": "b6edf117-16cd-44d6-a4af-b7946aa1e8d9",
   "metadata": {},
   "outputs": [
    {
     "data": {
      "text/plain": [
       "False"
      ]
     },
     "execution_count": 10,
     "metadata": {},
     "output_type": "execute_result"
    }
   ],
   "source": [
    "class op:\n",
    "    def __init__(self, v1):\n",
    "        self.v1 = v1\n",
    "\n",
    "    def __gt__(self, another):\n",
    "        return True if self.v1>another.v1 else False\n",
    "        \n",
    "c1 = op(10)\n",
    "c2 = op(20)\n",
    "\n",
    "c1>c2"
   ]
  },
  {
   "cell_type": "code",
   "execution_count": 14,
   "id": "fb8d58ae-0b91-4bed-a50c-977e71b3cee0",
   "metadata": {},
   "outputs": [
    {
     "data": {
      "text/plain": [
       "[2, 4, 6]"
      ]
     },
     "execution_count": 14,
     "metadata": {},
     "output_type": "execute_result"
    }
   ],
   "source": [
    "class op:\n",
    "    def __init__(self, v1):\n",
    "        self.v1 = v1\n",
    "\n",
    "    def __add__(self, another):\n",
    "        ls = []\n",
    "        for i in range(len(self.v1)):\n",
    "            ls.append(self.v1[i] + another.v1[i])\n",
    "\n",
    "        return ls\n",
    "\n",
    "c1 = [1, 2, 3]\n",
    "obj1 = op(c1)\n",
    "\n",
    "c2 = [1, 2, 3]\n",
    "obj2 = op(c2)\n",
    "\n",
    "obj1+obj2"
   ]
  },
  {
   "cell_type": "code",
   "execution_count": null,
   "id": "b34411c8-7339-41b2-898d-ec95271318d8",
   "metadata": {},
   "outputs": [],
   "source": []
  }
 ],
 "metadata": {
  "kernelspec": {
   "display_name": "Python 3 (ipykernel)",
   "language": "python",
   "name": "python3"
  },
  "language_info": {
   "codemirror_mode": {
    "name": "ipython",
    "version": 3
   },
   "file_extension": ".py",
   "mimetype": "text/x-python",
   "name": "python",
   "nbconvert_exporter": "python",
   "pygments_lexer": "ipython3",
   "version": "3.13.3"
  }
 },
 "nbformat": 4,
 "nbformat_minor": 5
}
